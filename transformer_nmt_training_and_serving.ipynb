{
 "cells": [
  {
   "cell_type": "markdown",
   "metadata": {},
   "source": [
    "# Steps to start training your custom Tensorflow model in AWS SageMaker\n",
    "# SageMaker Experiments, TensorFlow script mode training and restore checkpoint to resume training\n",
    "\n",
    "Some sections of this notebook has been inspired by the tutorial:\n",
    "\n",
    "**Sagemaker Python SDK Examples: tensorflow_script_mode_training_and_serving.ipynb**\n",
    "\n",
    "https://github.com/awslabs/amazon-sagemaker-examples/blob/master/sagemaker-python-sdk/tensorflow_script_mode_training_and_serving/tensorflow_script_mode_training_and_serving.ipynb\n",
    "\n",
    "In this notebook we will describe the most relevant steps to start training a custom algorithm in AWS SageMaker, not using a custom container, showing how to deal with experiments and solving some of the problems when facing with custom models when using SageMaker script mode on. Some basics concepts on SageMaker will not be detailed in order to focus on the relevant concepts.\n",
    "\n",
    "Following steps will be explained: \n",
    " \n",
    "1. Create an Experiment and Trial to keep track of our experiments\n",
    "\n",
    "2. Load the training data to our training instance\n",
    "\n",
    "3. Create the scripts to train our custom model, a Transformer.\n",
    "\n",
    "4. Create an Estimator to train our model in a Tensorflow 2.1 container in script mode\n",
    "\n",
    "5. Create metric definitions to keep track of them in SageMaker\n",
    "\n",
    "4. Download the trained model to make predictions\n",
    "\n",
    "5. Resume training using the latest checkpoint from a previous training \n"
   ]
  },
  {
   "cell_type": "markdown",
   "metadata": {},
   "source": [
    "# Amazon SageMaker Overview\n",
    "\n",
    "*Amazon SageMaker is a fully managed machine learning service. With SageMaker, data scientists and developers can quickly and easily build and train machine learning models, and then directly deploy them into a production-ready hosted environment.*\n",
    "\n",
    "*Amazon SageMaker Developer Guide*\n",
    "\n",
    "Amazon SageMaker provides many tools to help developers to manage the Machine Learning Lifecycle workflow:\n",
    "- Fetch, Clean and transform the data: you can use SageMaker notebook instances to manipulate and analyze your data, then you can clean and transform it to the requiered format for your algorithm. And you can use Pipelines functionality to serve the data to your model during training.\n",
    "- Train and evaluate the model: There are many different posibilities to train your model. You can use built-in algorithm, models provided by SageMaker, or you can use custom code to train in the most popular deep learning framewors (Tensorflow, Pytorch, Apache MXNet,..) or even use Apache Spark. Finally, you can use your own custom algorithm and build a Docker container then training the model on SageMaker. You can keep track of your model metrics to evaluate the performance.\n",
    "- Deploy your model: Once your model is trained, you can deploy it in and endpoint service in SageMaker and make prediction one at a time or in batch mode.\n",
    "\n",
    "![Alt](images/ml-concepts-10.png \"Machine Learning Lifecycle work flow\")\n",
    "\n",
    "A simple and popular way to get started and work with SageMaker is to use the Amazon SageMaker Python SDK. It provides  Python APIs and containers that make it easy to train and deploy models in SageMaker, as well as examples for use with several different machine learning and deep learning frameworks.\n",
    "\n"
   ]
  },
  {
   "cell_type": "markdown",
   "metadata": {},
   "source": [
    "# Problem description\n",
    "\n",
    "For this project we will develope notebooks and scripts to train a Transformer Tensorflow 2 model to solve a neural machine translation problem, traslating simple sentences from English to Spanish. This problem and the model is extensively described in my Mdeium post [\"Attention is all you need: Discovering the Transformer paper\"](https://towardsdatascience.com/attention-is-all-you-need-discovering-the-transformer-paper-73e5ff5e0634).\n",
    "\n"
   ]
  },
  {
   "cell_type": "markdown",
   "metadata": {},
   "source": [
    "# Data description\n",
    "\n",
    "For this exercise, we’ll use pairs of simple sentences. The source text will be in English, and the target text will be in Spanish, from the Tatoeba project where people contribute, adding translations every day. This is the [link](http://www.manythings.org/anki/) to some translations in different languages. There you can download the Spanish/English `spa_eng.zip` file; it contains 124,457 pairs of sentences."
   ]
  },
  {
   "cell_type": "markdown",
   "metadata": {},
   "source": [
    "# Set up the environment\n",
    "\n",
    "Let's start by setting up the environment:"
   ]
  },
  {
   "cell_type": "markdown",
   "metadata": {},
   "source": [
    "First, we will import and load the libraries to use in our project."
   ]
  },
  {
   "cell_type": "code",
   "execution_count": 1,
   "metadata": {},
   "outputs": [],
   "source": [
    "%load_ext autoreload\n",
    "%autoreload 2"
   ]
  },
  {
   "cell_type": "code",
   "execution_count": 5,
   "metadata": {},
   "outputs": [
    {
     "name": "stdout",
     "output_type": "stream",
     "text": [
      "arn:aws:iam::223817798831:role/service-role/AmazonSageMaker-ExecutionRole-20200708T194212\n",
      "us-east-1\n"
     ]
    }
   ],
   "source": [
    "import os\n",
    "import sagemaker\n",
    "from sagemaker import get_execution_role\n",
    "import pandas as pd\n",
    "import numpy as np\n",
    "import time\n",
    "import pickle\n",
    "\n",
    "import tensorflow as tf\n",
    "# Create a SageMaker session to work with\n",
    "sagemaker_session = sagemaker.Session()\n",
    "# Get the role of our user and the region\n",
    "role = get_execution_role()\n",
    "region = sagemaker_session.boto_session.region_name\n",
    "print(role)\n",
    "print(region)"
   ]
  },
  {
   "cell_type": "markdown",
   "metadata": {},
   "source": [
    "## Define global variables and parameters"
   ]
  },
  {
   "cell_type": "code",
   "execution_count": 6,
   "metadata": {},
   "outputs": [],
   "source": [
    "# Set the variables for data locations\n",
    "data_folder_name='data'\n",
    "train_filename = 'spa.txt'\n",
    "non_breaking_en = 'nonbreaking_prefix.en'\n",
    "non_breaking_es = 'nonbreaking_prefix.es'\n",
    "# Set the directories for our nodel output\n",
    "trainedmodel_path = 'trained_model'\n",
    "output_data_path = 'output_data'\n",
    "# Set the name of the artifacts that our model generate (model not included) \n",
    "model_info_file = 'model_info.pth'\n",
    "input_vocab_file = 'in_vocab.pkl'\n",
    "output_vocab_file = 'out_vocab.pkl'\n",
    "# Set the absolute path of the train data \n",
    "train_file = os.path.abspath(os.path.join(data_folder_name, train_filename))\n",
    "non_breaking_en_file = os.path.abspath(os.path.join(data_folder_name, non_breaking_en))\n",
    "non_breaking_es_file = os.path.abspath(os.path.join(data_folder_name, non_breaking_es))"
   ]
  },
  {
   "cell_type": "markdown",
   "metadata": {},
   "source": [
    "When working with Amazon SageMaker training jobs that will run on containers in a new instance or \"vm\", the data has to be share using a S3 Storage folder. For this purpose we define the bucket name and the folder names where our inputs and outputs will be stored. In our case we define:\n",
    "- The **training data** URI: where our input data is located\n",
    "- The **output folder**: where our training saves the outputs fron our model\n",
    "- The **checkpoint folder**: where our model uploads the checkpoints\n"
   ]
  },
  {
   "cell_type": "code",
   "execution_count": 7,
   "metadata": {},
   "outputs": [],
   "source": [
    "# Specify your bucket name\n",
    "bucket_name = 'edumunozsala-ml-sagemaker'\n",
    "# Set the training data folder in S3\n",
    "training_folder = r'transformer-nmt/train'\n",
    "# Set the output folder in S3\n",
    "output_folder = r'transformer-nmt'\n",
    "# Set the checkpoint in S3 folder for our model \n",
    "ckpt_folder = r'transformer-nmt/ckpt'\n",
    "\n",
    "training_data_uri = r's3://' + bucket_name + r'/' + training_folder\n",
    "output_data_uri = r's3://' + bucket_name + r'/' + output_folder\n",
    "ckpt_data_uri = r's3://' + bucket_name + r'/' + ckpt_folder"
   ]
  },
  {
   "cell_type": "code",
   "execution_count": 5,
   "metadata": {},
   "outputs": [
    {
     "data": {
      "text/plain": [
       "('s3://edumunozsala-ml-sagemaker/transformer-nmt/train',\n",
       " 's3://edumunozsala-ml-sagemaker/transformer-nmt',\n",
       " 's3://edumunozsala-ml-sagemaker/transformer-nmt/ckpt')"
      ]
     },
     "execution_count": 5,
     "metadata": {},
     "output_type": "execute_result"
    }
   ],
   "source": [
    "training_data_uri,output_data_uri,ckpt_data_uri"
   ]
  },
  {
   "cell_type": "markdown",
   "metadata": {},
   "source": [
    "Then we can upload to the training data folder in S3 the files necessary for training: training data, non breaking prefixes for the inputs (English) and the non breaking prefixes for the outputs (Spanish). Once uploaded they can be loaded for training in the SageMaker container."
   ]
  },
  {
   "cell_type": "code",
   "execution_count": 6,
   "metadata": {},
   "outputs": [
    {
     "data": {
      "text/plain": [
       "'s3://edumunozsala-ml-sagemaker/transformer-nmt/train/nonbreaking_prefix.es'"
      ]
     },
     "execution_count": 6,
     "metadata": {},
     "output_type": "execute_result"
    }
   ],
   "source": [
    "inputs = sagemaker_session.upload_data(train_file,\n",
    "                              bucket=bucket_name, \n",
    "                              key_prefix=training_folder)\n",
    "\n",
    "sagemaker_session.upload_data(non_breaking_en_file,\n",
    "                              bucket=bucket_name, \n",
    "                              key_prefix=training_folder)\n",
    "\n",
    "sagemaker_session.upload_data(non_breaking_es_file,\n",
    "                              bucket=bucket_name, \n",
    "                              key_prefix=training_folder)"
   ]
  },
  {
   "cell_type": "markdown",
   "metadata": {},
   "source": [
    "# Create an experiment and trial\n",
    "\n",
    "*Amazon SageMaker Experiments* is a capability of Amazon SageMaker that lets you organize, track, compare, and evaluate your machine learning experiments.\n",
    "\n",
    "Machine learning is an iterative process. You need to experiment with multiple combinations of data, algorithm and parameters, all the while observing the impact of incremental changes on model accuracy. Over time this iterative experimentation can result in thousands of model training runs and model versions. This makes it hard to track the best performing models and their input configurations. It’s also difficult to compare active experiments with past experiments to identify opportunities for further incremental improvements.\n",
    "\n",
    "Experiments will help us to organize and manage all executions, metrics and results of a ML project."
   ]
  },
  {
   "cell_type": "code",
   "execution_count": 7,
   "metadata": {},
   "outputs": [
    {
     "name": "stdout",
     "output_type": "stream",
     "text": [
      "Collecting sagemaker-experiments\n",
      "  Using cached sagemaker_experiments-0.1.24-py3-none-any.whl (36 kB)\n",
      "Requirement already satisfied: boto3>=1.12.8 in /home/ec2-user/anaconda3/envs/tensorflow2_p36/lib/python3.6/site-packages (from sagemaker-experiments) (1.16.9)\n",
      "Requirement already satisfied: s3transfer<0.4.0,>=0.3.0 in /home/ec2-user/anaconda3/envs/tensorflow2_p36/lib/python3.6/site-packages (from boto3>=1.12.8->sagemaker-experiments) (0.3.3)\n",
      "Requirement already satisfied: jmespath<1.0.0,>=0.7.1 in /home/ec2-user/anaconda3/envs/tensorflow2_p36/lib/python3.6/site-packages (from boto3>=1.12.8->sagemaker-experiments) (0.10.0)\n",
      "Requirement already satisfied: botocore<1.20.0,>=1.19.9 in /home/ec2-user/anaconda3/envs/tensorflow2_p36/lib/python3.6/site-packages (from boto3>=1.12.8->sagemaker-experiments) (1.19.9)\n",
      "Requirement already satisfied: python-dateutil<3.0.0,>=2.1 in /home/ec2-user/anaconda3/envs/tensorflow2_p36/lib/python3.6/site-packages (from botocore<1.20.0,>=1.19.9->boto3>=1.12.8->sagemaker-experiments) (2.8.1)\n",
      "Requirement already satisfied: urllib3<1.26,>=1.25.4; python_version != \"3.4\" in /home/ec2-user/anaconda3/envs/tensorflow2_p36/lib/python3.6/site-packages (from botocore<1.20.0,>=1.19.9->boto3>=1.12.8->sagemaker-experiments) (1.25.10)\n",
      "Requirement already satisfied: six>=1.5 in /home/ec2-user/anaconda3/envs/tensorflow2_p36/lib/python3.6/site-packages (from python-dateutil<3.0.0,>=2.1->botocore<1.20.0,>=1.19.9->boto3>=1.12.8->sagemaker-experiments) (1.14.0)\n",
      "Installing collected packages: sagemaker-experiments\n",
      "Successfully installed sagemaker-experiments-0.1.24\n",
      "\u001b[33mWARNING: You are using pip version 20.0.2; however, version 20.2.4 is available.\n",
      "You should consider upgrading via the '/home/ec2-user/anaconda3/envs/tensorflow2_p36/bin/python -m pip install --upgrade pip' command.\u001b[0m\n"
     ]
    }
   ],
   "source": [
    "# Install the library necessary to handle experiments\n",
    "!pip install sagemaker-experiments"
   ]
  },
  {
   "cell_type": "markdown",
   "metadata": {},
   "source": [
    "Load the libraries to handle experiments"
   ]
  },
  {
   "cell_type": "code",
   "execution_count": 8,
   "metadata": {},
   "outputs": [],
   "source": [
    "# Import the libraries to work with Experiments in SageMaker\n",
    "from smexperiments.experiment import Experiment\n",
    "from smexperiments.trial import Trial\n",
    "from smexperiments.trial_component import TrialComponent"
   ]
  },
  {
   "cell_type": "markdown",
   "metadata": {},
   "source": [
    "Set the experiment and trial name and one tag to help us to identify the reason for this items."
   ]
  },
  {
   "cell_type": "code",
   "execution_count": 10,
   "metadata": {},
   "outputs": [],
   "source": [
    "# Set the experiment name\n",
    "experiment_name='tf-transformer'\n",
    "# Set the trial name \n",
    "trial_name=\"{}-{}\".format(experiment_name,'single-gpu')\n",
    "\n",
    "tags = [{'Key': 'my-experiments', 'Value': 'transformerEngSpa1'}]"
   ]
  },
  {
   "cell_type": "markdown",
   "metadata": {},
   "source": [
    "You can create an experiment to track all the model training iterations. Experiments are a great way to organize your data science work. You can create experiments to organize all your model development work for : a business use case you are addressing (e.g. create experiment named “customer churn prediction”), or a data science team that owns the experiment (e.g. create experiment named “marketing analytics experiment”), or a specific data science and ML project. Think of it as a “folder” for organizing your “files”.\n",
    "\n",
    "We will create a Trial to track each training job run. But this is just a simple example, not intented to explore all the capabilities of the product."
   ]
  },
  {
   "cell_type": "code",
   "execution_count": 11,
   "metadata": {},
   "outputs": [
    {
     "name": "stdout",
     "output_type": "stream",
     "text": [
      "Loaded experiment  tf-transformer\n",
      "Loaded trial  tf-transformer-single-gpu\n"
     ]
    }
   ],
   "source": [
    "# create the experiment if it doesn't exist\n",
    "try:\n",
    "    training_experiment = Experiment.load(experiment_name=experiment_name)\n",
    "    print('Loaded experiment ',experiment_name)\n",
    "except Exception as ex:\n",
    "    if \"ResourceNotFound\" in str(ex):\n",
    "        training_experiment = Experiment.create(experiment_name=experiment_name,\n",
    "                                      description = \"Experiment to track trainings on my tensorflow Transformer Eng-Spa\", \n",
    "                                      tags = tags)\n",
    "        print('Created experiment ',experiment_name)\n",
    "# create the trial if it doesn't exist\n",
    "try:\n",
    "    single_gpu_trial = Trial.load(trial_name=trial_name)\n",
    "    print('Loaded trial ',trial_name)\n",
    "except Exception as ex:\n",
    "    if \"ResourceNotFound\" in str(ex):\n",
    "        single_gpu_trial = Trial.create(experiment_name=experiment_name, \n",
    "                             trial_name= trial_name,\n",
    "                             tags = tags)\n",
    "        print('Created trial ',trial_name)"
   ]
  },
  {
   "cell_type": "markdown",
   "metadata": {},
   "source": [
    "## Trackers\n",
    "\n",
    "Another interesting tool to mention, is Tracker objects. They can store information about different types of topics or objects in our model or training process like inputs, parameters, artifacts or metrics. The tracker is attached to a trial, associating the object to the training job. We can record that information and analyze it later on the experiment. **Note** that only parameters, input artifacts, and output artifacts are saved to SageMaker. Metrics are saved to file.\n",
    "\n",
    "As an example, we create a Tracker to register the input data and two parameters about how that data is processed in our project."
   ]
  },
  {
   "cell_type": "code",
   "execution_count": 12,
   "metadata": {},
   "outputs": [
    {
     "name": "stdout",
     "output_type": "stream",
     "text": [
      "Created Tracker  TextPreprocessing\n"
     ]
    }
   ],
   "source": [
    "from smexperiments.tracker import Tracker\n",
    "# Create the tracker for the inout data\n",
    "tracker_name='TextPreprocessing'\n",
    "trial_comp_name = None # Change to a an exsting TrialComponent to load it\n",
    "\n",
    "try:\n",
    "    tracker = Tracker.load(trial_component_name=trial_comp_name)\n",
    "    print('Loaded Tracker ',tracker_name)\n",
    "except Exception as ex:\n",
    "    tracker = Tracker.create(display_name=tracker_name)\n",
    "    tracker.log_input(name=\"EngtoSpa Translations\", media_type=\"s3/uri\", value=inputs)\n",
    "    tracker.log_parameters({\n",
    "        \"Tokenizer\": 'Subword',\n",
    "        \"Max Length\": 15,\n",
    "    })\n",
    "    print('Created Tracker ',tracker_name)\n",
    "    \n",
    "# Atach the Tracker to the trial\n",
    "single_gpu_trial.add_trial_component(tracker.trial_component)"
   ]
  },
  {
   "cell_type": "markdown",
   "metadata": {},
   "source": [
    "Our last step consist in create the experiment configuration, a dictionary that contains the experiment name, the trial name and the trial component and it will be used to label our training job."
   ]
  },
  {
   "cell_type": "code",
   "execution_count": 13,
   "metadata": {},
   "outputs": [],
   "source": [
    "# Create a configuration definition for our experiment and trial\n",
    "trial_comp_name = 'single-gpu-components'\n",
    "# Set the configuration parameters for the experiment\n",
    "experiment_config = {'ExperimentName': training_experiment.experiment_name, \n",
    "                       'TrialName': single_gpu_trial.trial_name,\n",
    "                       'TrialComponentDisplayName': trial_comp_name}"
   ]
  },
  {
   "cell_type": "markdown",
   "metadata": {},
   "source": [
    "Check and show information about the experiment and trial"
   ]
  },
  {
   "cell_type": "code",
   "execution_count": 19,
   "metadata": {},
   "outputs": [
    {
     "name": "stdout",
     "output_type": "stream",
     "text": [
      "Experiment:  tf-transformer\n",
      "Trial Components:  TrialComponentSummary(trial_component_name='TrialComponent-2020-11-12-115920-sbov',trial_component_arn='arn:aws:sagemaker:us-east-1:223817798831:experiment-trial-component/trialcomponent-2020-11-12-115920-sbov',display_name='TextPreprocessing',creation_time=datetime.datetime(2020, 11, 12, 11, 59, 20, 739000, tzinfo=tzlocal()),created_by={},last_modified_time=datetime.datetime(2020, 11, 12, 11, 59, 20, 739000, tzinfo=tzlocal()),last_modified_by={})\n",
      "Trial Components:  TrialComponentSummary(trial_component_name='tf-transformer-single-gpu-2020-11-12-11-44-28-aws-training-job',trial_component_arn='arn:aws:sagemaker:us-east-1:223817798831:experiment-trial-component/tf-transformer-single-gpu-2020-11-12-11-44-28-aws-training-job',display_name='single-gpu-components',trial_component_source={'SourceArn': 'arn:aws:sagemaker:us-east-1:223817798831:training-job/tf-transformer-single-gpu-2020-11-12-11-44-28', 'SourceType': 'SageMakerTrainingJob'},status=TrialComponentStatus(primary_status='Failed',message='Status: Failed, secondary status: Failed, failure reason: AlgorithmError: ExecuteUserScriptError:\\nCommand \"/usr/bin/python3 train.py --epochs 8 --model_dir s3://edumunozsala-ml-sagemaker/transformer-nmt/tf-transformer-single-gpu-2020-11-12-11-44-28/model --non_breaking_in nonbreaking_prefix.en --non_breaking_out nonbreaking_prefix.es --nsamples 60000 --resume False --train_file spa.txt\".'),creation_time=datetime.datetime(2020, 11, 12, 11, 44, 32, 948000, tzinfo=tzlocal()),created_by={},last_modified_time=datetime.datetime(2020, 11, 12, 11, 50, 27, 732000, tzinfo=tzlocal()),last_modified_by={})\n",
      "Trial Components:  TrialComponentSummary(trial_component_name='TrialComponent-2020-11-12-113905-rpfc',trial_component_arn='arn:aws:sagemaker:us-east-1:223817798831:experiment-trial-component/trialcomponent-2020-11-12-113905-rpfc',display_name='TextPreprocessing',creation_time=datetime.datetime(2020, 11, 12, 11, 39, 5, 995000, tzinfo=tzlocal()),created_by={},last_modified_time=datetime.datetime(2020, 11, 12, 11, 39, 5, 995000, tzinfo=tzlocal()),last_modified_by={})\n"
     ]
    }
   ],
   "source": [
    "print('Experiment: ',training_experiment.experiment_name)\n",
    "# Show the trials in the experiment\n",
    "#for trial in training_experiment.list_trials():\n",
    "    #print('Trial: ',trial.trial_name)\n",
    "\n",
    "for trial_comp in TrialComponent.list(trial_name=single_gpu_trial.trial_name):\n",
    "        print('Trial Components: ',trial_comp)"
   ]
  },
  {
   "cell_type": "markdown",
   "metadata": {},
   "source": [
    "# Construct a script for training\n",
    "\n",
    "Script mode is a training script format for TensorFlow that lets you execute any TensorFlow training script in SageMaker with minimal modification. The SageMaker Python SDK handles transferring your script to a SageMaker training instance. On the training instance, SageMaker's native TensorFlow support sets up training-related environment variables and executes your training script. In this tutorial, we use the SageMaker Python SDK to launch a training job.\n",
    "\n",
    "Script mode supports training with a Python script, a Python module, or a shell script.\n",
    "\n",
    "This project's training script was adapted from the Tensorflow model of a Transformer, we develop in a previous post (mentioned previously). We have modified it to handle: \n",
    "- the ``train_file``, ``non_breaking_in``and ``non_breaking_out`` parameters passed in with the values of the training data-set, the non breaking prefixes for the input data and the non breaking prefixes for the output data.\n",
    "\n",
    "- the ``data_dir`` parameter passed in by SageMaker with the value of the enviroment variable `SM_CHANNEL_TRAINING`. This is an S3 path used for input data sharing during training.\n",
    "\n",
    "- the ``model_dir`` parameter passed in by SageMaker. This is an S3 path which can be used for data sharing during distributed training and checkpointing and/or model persistence. We have also added an argument-parsing function to handle processing training-related variables.\n",
    "\n",
    "- the local checkpoint path to store the model checkpoints during training. We use the default value ``/opt/ml/checkpoints`` that will be uploaded to S3. We comment this behavior later when defining our estimator.\n",
    "\n",
    "- At the end of the training job we have added a step to export the trained model, only the weights, to the path stored in the environment variable ``SM_MODEL_DIR``, which always points to ``/opt/ml/model``. This is critical because SageMaker uploads all the model artifacts in this folder to S3 at end of training.\n",
    "\n",
    "- the ``output_data_dir`` parameter passed in by SageMaker with the value of the enviroment variable `SM_OUTPUT_DATA_DIR`. This is a folder path used to save output data from our model. This folder will be uploaded to S3 to store the output.tar.zip. In our case we need to save the tokenizer for the input texts, the tokenizer for the outputs, the input and output vocab size and the tokens for ``eos`` and ``sos``. \n",
    "\n",
    "\n",
    "In addition to the train.py file, our source code folder includes the files:\n",
    "- model.py: Tensorflow model definition\n",
    "- utils.py: utility functions to process the text data \n",
    "- utils_train.py: contains functions to calculate the loss and learning rate scheduler.\n",
    "\n",
    "\n",
    "Here is the entire script for the train.py file:"
   ]
  },
  {
   "cell_type": "code",
   "execution_count": 18,
   "metadata": {
    "scrolled": false
   },
   "outputs": [
    {
     "name": "stdout",
     "output_type": "stream",
     "text": [
      "\u001b[34mimport\u001b[39;49;00m \u001b[04m\u001b[36margparse\u001b[39;49;00m\r\n",
      "\u001b[34mimport\u001b[39;49;00m \u001b[04m\u001b[36mjson\u001b[39;49;00m\r\n",
      "\u001b[34mimport\u001b[39;49;00m \u001b[04m\u001b[36msys\u001b[39;49;00m\r\n",
      "\u001b[37m#import sagemaker_containers\u001b[39;49;00m\r\n",
      "\r\n",
      "\u001b[34mimport\u001b[39;49;00m \u001b[04m\u001b[36mmath\u001b[39;49;00m\r\n",
      "\u001b[34mimport\u001b[39;49;00m \u001b[04m\u001b[36mos\u001b[39;49;00m\r\n",
      "\u001b[34mimport\u001b[39;49;00m \u001b[04m\u001b[36mgc\u001b[39;49;00m\r\n",
      "\u001b[34mimport\u001b[39;49;00m \u001b[04m\u001b[36mtime\u001b[39;49;00m\r\n",
      "\u001b[34mimport\u001b[39;49;00m \u001b[04m\u001b[36mpandas\u001b[39;49;00m \u001b[34mas\u001b[39;49;00m \u001b[04m\u001b[36mpd\u001b[39;49;00m\r\n",
      "\u001b[34mimport\u001b[39;49;00m \u001b[04m\u001b[36mpickle\u001b[39;49;00m\r\n",
      "\r\n",
      "\u001b[34mimport\u001b[39;49;00m \u001b[04m\u001b[36mtensorflow\u001b[39;49;00m \u001b[34mas\u001b[39;49;00m \u001b[04m\u001b[36mtf\u001b[39;49;00m\r\n",
      "\r\n",
      "\u001b[37m# To install tensorflow_datasets\u001b[39;49;00m\r\n",
      "\u001b[34mimport\u001b[39;49;00m \u001b[04m\u001b[36msubprocess\u001b[39;49;00m\r\n",
      "\r\n",
      "\u001b[34mdef\u001b[39;49;00m \u001b[32minstall\u001b[39;49;00m(package):\r\n",
      "    subprocess.check_call([sys.executable, \u001b[33m\"\u001b[39;49;00m\u001b[33m-q\u001b[39;49;00m\u001b[33m\"\u001b[39;49;00m, \u001b[33m\"\u001b[39;49;00m\u001b[33m-m\u001b[39;49;00m\u001b[33m\"\u001b[39;49;00m, \u001b[33m\"\u001b[39;49;00m\u001b[33mpip\u001b[39;49;00m\u001b[33m\"\u001b[39;49;00m, \u001b[33m\"\u001b[39;49;00m\u001b[33minstall\u001b[39;49;00m\u001b[33m\"\u001b[39;49;00m, package])\r\n",
      "\r\n",
      "\u001b[37m# Install the library tensorflow_datasets\u001b[39;49;00m\r\n",
      "install(\u001b[33m'\u001b[39;49;00m\u001b[33mtensorflow_datasets\u001b[39;49;00m\u001b[33m'\u001b[39;49;00m)\r\n",
      "\r\n",
      "\u001b[34mfrom\u001b[39;49;00m \u001b[04m\u001b[36mutils\u001b[39;49;00m \u001b[34mimport\u001b[39;49;00m preprocess_text_nonbreaking, subword_tokenize\r\n",
      "\u001b[37m#from utils_train import loss_function, CustomSchedule\u001b[39;49;00m\r\n",
      "\r\n",
      "\u001b[34mfrom\u001b[39;49;00m \u001b[04m\u001b[36mmodel\u001b[39;49;00m \u001b[34mimport\u001b[39;49;00m Transformer\r\n",
      "\r\n",
      "INPUT_COLUMN = \u001b[33m'\u001b[39;49;00m\u001b[33minput\u001b[39;49;00m\u001b[33m'\u001b[39;49;00m\r\n",
      "TARGET_COLUMN = \u001b[33m'\u001b[39;49;00m\u001b[33mtarget\u001b[39;49;00m\u001b[33m'\u001b[39;49;00m\r\n",
      "\u001b[37m#NUM_SAMPLES = 80000 #40000\u001b[39;49;00m\r\n",
      "\u001b[37m#MAX_VOCAB_SIZE = 2**14\u001b[39;49;00m\r\n",
      "\r\n",
      "\u001b[37m#BATCH_SIZE = 64  # Batch size for training.\u001b[39;49;00m\r\n",
      "\u001b[37m#EPOCHS = 10  # Number of epochs to train for.\u001b[39;49;00m\r\n",
      "\u001b[37m#MAX_LENGTH = 15\u001b[39;49;00m\r\n",
      "\r\n",
      "\u001b[34mdef\u001b[39;49;00m \u001b[32mget_train_data\u001b[39;49;00m(training_dir, nonbreaking_in, nonbreaking_out, train_file, nsamples):\r\n",
      "    \u001b[37m# Load the nonbreaking files\u001b[39;49;00m\r\n",
      "    \u001b[34mwith\u001b[39;49;00m \u001b[36mopen\u001b[39;49;00m(os.path.join(training_dir, nonbreaking_in), \r\n",
      "        mode = \u001b[33m\"\u001b[39;49;00m\u001b[33mr\u001b[39;49;00m\u001b[33m\"\u001b[39;49;00m, encoding = \u001b[33m\"\u001b[39;49;00m\u001b[33mutf-8\u001b[39;49;00m\u001b[33m\"\u001b[39;49;00m) \u001b[34mas\u001b[39;49;00m f:\r\n",
      "        non_breaking_prefix_en = f.read()\r\n",
      "    \u001b[34mwith\u001b[39;49;00m \u001b[36mopen\u001b[39;49;00m(os.path.join(training_dir, nonbreaking_out), \r\n",
      "        mode = \u001b[33m\"\u001b[39;49;00m\u001b[33mr\u001b[39;49;00m\u001b[33m\"\u001b[39;49;00m, encoding = \u001b[33m\"\u001b[39;49;00m\u001b[33mutf-8\u001b[39;49;00m\u001b[33m\"\u001b[39;49;00m) \u001b[34mas\u001b[39;49;00m f:\r\n",
      "        non_breaking_prefix_es = f.read()\r\n",
      "\r\n",
      "    non_breaking_prefix_en = non_breaking_prefix_en.split(\u001b[33m\"\u001b[39;49;00m\u001b[33m\\n\u001b[39;49;00m\u001b[33m\"\u001b[39;49;00m)\r\n",
      "    non_breaking_prefix_en = [\u001b[33m'\u001b[39;49;00m\u001b[33m \u001b[39;49;00m\u001b[33m'\u001b[39;49;00m + pref + \u001b[33m'\u001b[39;49;00m\u001b[33m.\u001b[39;49;00m\u001b[33m'\u001b[39;49;00m \u001b[34mfor\u001b[39;49;00m pref \u001b[35min\u001b[39;49;00m non_breaking_prefix_en]\r\n",
      "    non_breaking_prefix_es = non_breaking_prefix_es.split(\u001b[33m\"\u001b[39;49;00m\u001b[33m\\n\u001b[39;49;00m\u001b[33m\"\u001b[39;49;00m)\r\n",
      "    non_breaking_prefix_es = [\u001b[33m'\u001b[39;49;00m\u001b[33m \u001b[39;49;00m\u001b[33m'\u001b[39;49;00m + pref + \u001b[33m'\u001b[39;49;00m\u001b[33m.\u001b[39;49;00m\u001b[33m'\u001b[39;49;00m \u001b[34mfor\u001b[39;49;00m pref \u001b[35min\u001b[39;49;00m non_breaking_prefix_es]\r\n",
      "    \u001b[37m# Load the training data\u001b[39;49;00m\r\n",
      "    \u001b[37m# Load the dataset: sentence in english, sentence in spanish \u001b[39;49;00m\r\n",
      "    df=pd.read_csv(os.path.join(training_dir, train_file), sep=\u001b[33m\"\u001b[39;49;00m\u001b[33m\\t\u001b[39;49;00m\u001b[33m\"\u001b[39;49;00m, header=\u001b[34mNone\u001b[39;49;00m, names=[INPUT_COLUMN,TARGET_COLUMN], usecols=[\u001b[34m0\u001b[39;49;00m,\u001b[34m1\u001b[39;49;00m], \r\n",
      "               nrows=nsamples)\r\n",
      "    \u001b[37m# Preprocess the input data\u001b[39;49;00m\r\n",
      "    input_data=df[INPUT_COLUMN].apply(\u001b[34mlambda\u001b[39;49;00m x : preprocess_text_nonbreaking(x, non_breaking_prefix_en)).tolist()\r\n",
      "    \u001b[37m# Preprocess and include the end of sentence token to the target text\u001b[39;49;00m\r\n",
      "    target_data=df[TARGET_COLUMN].apply(\u001b[34mlambda\u001b[39;49;00m x : preprocess_text_nonbreaking(x, non_breaking_prefix_es)).tolist()\r\n",
      "\r\n",
      "    \u001b[34mreturn\u001b[39;49;00m input_data, target_data\r\n",
      "\r\n",
      "\u001b[34mdef\u001b[39;49;00m \u001b[32mmain_train\u001b[39;49;00m(dataset, transformer, n_epochs, print_every=\u001b[34m50\u001b[39;49;00m):\r\n",
      "  \u001b[33m''' Train the transformer model for n_epochs using the data generator dataset'''\u001b[39;49;00m\r\n",
      "  losses = []\r\n",
      "  accuracies = []\r\n",
      "  \u001b[37m# In every epoch\u001b[39;49;00m\r\n",
      "  \u001b[34mfor\u001b[39;49;00m epoch \u001b[35min\u001b[39;49;00m \u001b[36mrange\u001b[39;49;00m(n_epochs):\r\n",
      "    \u001b[36mprint\u001b[39;49;00m(\u001b[33m\"\u001b[39;49;00m\u001b[33mStarting epoch \u001b[39;49;00m\u001b[33m{}\u001b[39;49;00m\u001b[33m\"\u001b[39;49;00m.format(epoch+\u001b[34m1\u001b[39;49;00m))\r\n",
      "    start = time.time()\r\n",
      "    \u001b[37m# Reset the losss and accuracy calculations\u001b[39;49;00m\r\n",
      "    train_loss.reset_states()\r\n",
      "    train_accuracy.reset_states()\r\n",
      "    \u001b[37m# Get a batch of inputs and targets\u001b[39;49;00m\r\n",
      "    \u001b[34mfor\u001b[39;49;00m (batch, (enc_inputs, targets)) \u001b[35min\u001b[39;49;00m \u001b[36menumerate\u001b[39;49;00m(dataset):\r\n",
      "        \u001b[37m# Set the decoder inputs\u001b[39;49;00m\r\n",
      "        dec_inputs = targets[:, :-\u001b[34m1\u001b[39;49;00m]\r\n",
      "        \u001b[37m# Set the target outputs, right shifted\u001b[39;49;00m\r\n",
      "        dec_outputs_real = targets[:, \u001b[34m1\u001b[39;49;00m:]\r\n",
      "        \u001b[34mwith\u001b[39;49;00m tf.GradientTape() \u001b[34mas\u001b[39;49;00m tape:\r\n",
      "            \u001b[37m# Call the transformer and get the predicted output\u001b[39;49;00m\r\n",
      "            predictions = transformer(enc_inputs, dec_inputs, \u001b[34mTrue\u001b[39;49;00m)\r\n",
      "            \u001b[37m# Calculate the loss\u001b[39;49;00m\r\n",
      "            loss = loss_function(dec_outputs_real, predictions)\r\n",
      "        \u001b[37m# Update the weights and optimizer\u001b[39;49;00m\r\n",
      "        gradients = tape.gradient(loss, transformer.trainable_variables)\r\n",
      "        optimizer.apply_gradients(\u001b[36mzip\u001b[39;49;00m(gradients, transformer.trainable_variables))\r\n",
      "        \u001b[37m# Save and store the metrics\u001b[39;49;00m\r\n",
      "        train_loss(loss)\r\n",
      "        train_accuracy(dec_outputs_real, predictions)\r\n",
      "        \r\n",
      "        \u001b[34mif\u001b[39;49;00m batch % print_every == \u001b[34m0\u001b[39;49;00m:\r\n",
      "            losses.append(train_loss.result())\r\n",
      "            accuracies.append(train_accuracy.result())\r\n",
      "            \u001b[36mprint\u001b[39;49;00m(\u001b[33m\"\u001b[39;49;00m\u001b[33mEpoch \u001b[39;49;00m\u001b[33m{}\u001b[39;49;00m\u001b[33m Batch \u001b[39;49;00m\u001b[33m{}\u001b[39;49;00m\u001b[33m Loss \u001b[39;49;00m\u001b[33m{:.4f}\u001b[39;49;00m\u001b[33m Accuracy \u001b[39;49;00m\u001b[33m{:.4f}\u001b[39;49;00m\u001b[33m\"\u001b[39;49;00m.format(\r\n",
      "                epoch+\u001b[34m1\u001b[39;49;00m, batch, train_loss.result(), train_accuracy.result()))\r\n",
      "            \r\n",
      "    \u001b[37m# Checkpoint the model on every epoch        \u001b[39;49;00m\r\n",
      "    ckpt_save_path = ckpt_manager.save()\r\n",
      "    \u001b[36mprint\u001b[39;49;00m(\u001b[33m\"\u001b[39;49;00m\u001b[33mSaving checkpoint for epoch \u001b[39;49;00m\u001b[33m{}\u001b[39;49;00m\u001b[33m in \u001b[39;49;00m\u001b[33m{}\u001b[39;49;00m\u001b[33m\"\u001b[39;49;00m.format(epoch+\u001b[34m1\u001b[39;49;00m,\r\n",
      "                                                        ckpt_save_path))\r\n",
      "    \u001b[37m#print(\"Time for 1 epoch: {} secs\\n\".format(time.time() - start))\u001b[39;49;00m\r\n",
      "    \u001b[37m# Save the model\u001b[39;49;00m\r\n",
      "    \u001b[37m#transformer.save(args.sm_model_dir, overwrite=True, save_format='tf')\u001b[39;49;00m\r\n",
      "    \r\n",
      "  \u001b[34mreturn\u001b[39;49;00m losses, accuracies\r\n",
      "\r\n",
      "\r\n",
      "\u001b[34mdef\u001b[39;49;00m \u001b[32mloss_function\u001b[39;49;00m(target, pred):\r\n",
      "    mask = tf.math.logical_not(tf.math.equal(target, \u001b[34m0\u001b[39;49;00m))\r\n",
      "    loss_ = loss_object(target, pred)\r\n",
      "    \r\n",
      "    mask = tf.cast(mask, dtype=loss_.dtype)\r\n",
      "    loss_ *= mask\r\n",
      "    \r\n",
      "    \u001b[34mreturn\u001b[39;49;00m tf.reduce_mean(loss_)\r\n",
      "\r\n",
      "\u001b[34mclass\u001b[39;49;00m \u001b[04m\u001b[32mCustomSchedule\u001b[39;49;00m(tf.keras.optimizers.schedules.LearningRateSchedule):\r\n",
      "    \r\n",
      "    \u001b[34mdef\u001b[39;49;00m \u001b[32m__init__\u001b[39;49;00m(\u001b[36mself\u001b[39;49;00m, d_model, warmup_steps=\u001b[34m4000\u001b[39;49;00m):\r\n",
      "        \u001b[36msuper\u001b[39;49;00m(CustomSchedule, \u001b[36mself\u001b[39;49;00m).\u001b[32m__init__\u001b[39;49;00m()\r\n",
      "        \r\n",
      "        \u001b[36mself\u001b[39;49;00m.d_model = tf.cast(d_model, tf.float32)\r\n",
      "        \u001b[36mself\u001b[39;49;00m.warmup_steps = warmup_steps\r\n",
      "    \r\n",
      "    \u001b[34mdef\u001b[39;49;00m \u001b[32m__call__\u001b[39;49;00m(\u001b[36mself\u001b[39;49;00m, step):\r\n",
      "        arg1 = tf.math.rsqrt(step)\r\n",
      "        arg2 = step * (\u001b[36mself\u001b[39;49;00m.warmup_steps**-\u001b[34m1.5\u001b[39;49;00m)\r\n",
      "        \r\n",
      "        \u001b[34mreturn\u001b[39;49;00m tf.math.rsqrt(\u001b[36mself\u001b[39;49;00m.d_model) * tf.math.minimum(arg1, arg2)\r\n",
      "\r\n",
      "\r\n"
     ]
    },
    {
     "name": "stdout",
     "output_type": "stream",
     "text": [
      "\u001b[34mif\u001b[39;49;00m \u001b[31m__name__\u001b[39;49;00m == \u001b[33m'\u001b[39;49;00m\u001b[33m__main__\u001b[39;49;00m\u001b[33m'\u001b[39;49;00m:\r\n",
      "    \u001b[37m# Install tensorflow_datasets\u001b[39;49;00m\r\n",
      "    \u001b[37m#install('tensorflow_datasets')\u001b[39;49;00m\r\n",
      "\r\n",
      "    \u001b[37m# All of the model parameters and training parameters are sent as arguments when the script\u001b[39;49;00m\r\n",
      "    \u001b[37m# is executed. Here we set up an argument parser to easily access the parameters.\u001b[39;49;00m\r\n",
      "\r\n",
      "    parser = argparse.ArgumentParser()\r\n",
      "\r\n",
      "    \u001b[37m# Training Parameters\u001b[39;49;00m\r\n",
      "    parser.add_argument(\u001b[33m'\u001b[39;49;00m\u001b[33m--batch-size\u001b[39;49;00m\u001b[33m'\u001b[39;49;00m, \u001b[36mtype\u001b[39;49;00m=\u001b[36mint\u001b[39;49;00m, default=\u001b[34m64\u001b[39;49;00m, metavar=\u001b[33m'\u001b[39;49;00m\u001b[33mN\u001b[39;49;00m\u001b[33m'\u001b[39;49;00m,\r\n",
      "                        help=\u001b[33m'\u001b[39;49;00m\u001b[33minput batch size for training (default: 64)\u001b[39;49;00m\u001b[33m'\u001b[39;49;00m)\r\n",
      "    parser.add_argument(\u001b[33m'\u001b[39;49;00m\u001b[33m--max-len\u001b[39;49;00m\u001b[33m'\u001b[39;49;00m, \u001b[36mtype\u001b[39;49;00m=\u001b[36mint\u001b[39;49;00m, default=\u001b[34m15\u001b[39;49;00m, metavar=\u001b[33m'\u001b[39;49;00m\u001b[33mN\u001b[39;49;00m\u001b[33m'\u001b[39;49;00m,\r\n",
      "                        help=\u001b[33m'\u001b[39;49;00m\u001b[33minput max sequence length for training (default: 60)\u001b[39;49;00m\u001b[33m'\u001b[39;49;00m)\r\n",
      "    parser.add_argument(\u001b[33m'\u001b[39;49;00m\u001b[33m--epochs\u001b[39;49;00m\u001b[33m'\u001b[39;49;00m, \u001b[36mtype\u001b[39;49;00m=\u001b[36mint\u001b[39;49;00m, default=\u001b[34m2\u001b[39;49;00m, metavar=\u001b[33m'\u001b[39;49;00m\u001b[33mN\u001b[39;49;00m\u001b[33m'\u001b[39;49;00m,\r\n",
      "                        help=\u001b[33m'\u001b[39;49;00m\u001b[33mnumber of epochs to train (default: 2)\u001b[39;49;00m\u001b[33m'\u001b[39;49;00m)\r\n",
      "    parser.add_argument(\u001b[33m'\u001b[39;49;00m\u001b[33m--nsamples\u001b[39;49;00m\u001b[33m'\u001b[39;49;00m, \u001b[36mtype\u001b[39;49;00m=\u001b[36mint\u001b[39;49;00m, default=\u001b[34m10000\u001b[39;49;00m, metavar=\u001b[33m'\u001b[39;49;00m\u001b[33mN\u001b[39;49;00m\u001b[33m'\u001b[39;49;00m,\r\n",
      "                        help=\u001b[33m'\u001b[39;49;00m\u001b[33mnumber of samples to train (default: 20000)\u001b[39;49;00m\u001b[33m'\u001b[39;49;00m)\r\n",
      "    parser.add_argument(\u001b[33m'\u001b[39;49;00m\u001b[33m--resume\u001b[39;49;00m\u001b[33m'\u001b[39;49;00m, \u001b[36mtype\u001b[39;49;00m=\u001b[36mbool\u001b[39;49;00m, default=\u001b[34mFalse\u001b[39;49;00m, metavar=\u001b[33m'\u001b[39;49;00m\u001b[33mN\u001b[39;49;00m\u001b[33m'\u001b[39;49;00m,\r\n",
      "                        help=\u001b[33m'\u001b[39;49;00m\u001b[33mResume training from the latest checkpoint (default: False)\u001b[39;49;00m\u001b[33m'\u001b[39;49;00m)\r\n",
      "\r\n",
      "    \u001b[37m# Data parameters                    \u001b[39;49;00m\r\n",
      "    parser.add_argument(\u001b[33m'\u001b[39;49;00m\u001b[33m--train_file\u001b[39;49;00m\u001b[33m'\u001b[39;49;00m, \u001b[36mtype\u001b[39;49;00m=\u001b[36mstr\u001b[39;49;00m, default=\u001b[34mNone\u001b[39;49;00m, metavar=\u001b[33m'\u001b[39;49;00m\u001b[33mN\u001b[39;49;00m\u001b[33m'\u001b[39;49;00m,\r\n",
      "                        help=\u001b[33m'\u001b[39;49;00m\u001b[33mTraining data file name\u001b[39;49;00m\u001b[33m'\u001b[39;49;00m)\r\n",
      "    parser.add_argument(\u001b[33m'\u001b[39;49;00m\u001b[33m--non_breaking_in\u001b[39;49;00m\u001b[33m'\u001b[39;49;00m, \u001b[36mtype\u001b[39;49;00m=\u001b[36mstr\u001b[39;49;00m, default=\u001b[34mNone\u001b[39;49;00m, metavar=\u001b[33m'\u001b[39;49;00m\u001b[33mN\u001b[39;49;00m\u001b[33m'\u001b[39;49;00m,\r\n",
      "                        help=\u001b[33m'\u001b[39;49;00m\u001b[33mNon breaking prefixes for input vocabulary\u001b[39;49;00m\u001b[33m'\u001b[39;49;00m)\r\n",
      "    parser.add_argument(\u001b[33m'\u001b[39;49;00m\u001b[33m--non_breaking_out\u001b[39;49;00m\u001b[33m'\u001b[39;49;00m, \u001b[36mtype\u001b[39;49;00m=\u001b[36mstr\u001b[39;49;00m, default=\u001b[34mNone\u001b[39;49;00m, metavar=\u001b[33m'\u001b[39;49;00m\u001b[33mN\u001b[39;49;00m\u001b[33m'\u001b[39;49;00m,\r\n",
      "                        help=\u001b[33m'\u001b[39;49;00m\u001b[33mNon breaking prefixes for output vocabulary\u001b[39;49;00m\u001b[33m'\u001b[39;49;00m)\r\n",
      "    parser.add_argument(\u001b[33m'\u001b[39;49;00m\u001b[33m--seed\u001b[39;49;00m\u001b[33m'\u001b[39;49;00m, \u001b[36mtype\u001b[39;49;00m=\u001b[36mint\u001b[39;49;00m, default=\u001b[34m1\u001b[39;49;00m, metavar=\u001b[33m'\u001b[39;49;00m\u001b[33mS\u001b[39;49;00m\u001b[33m'\u001b[39;49;00m,\r\n",
      "                        help=\u001b[33m'\u001b[39;49;00m\u001b[33mrandom seed (default: 1)\u001b[39;49;00m\u001b[33m'\u001b[39;49;00m)\r\n",
      "\r\n",
      "    \u001b[37m# Model Parameters\u001b[39;49;00m\r\n",
      "    parser.add_argument(\u001b[33m'\u001b[39;49;00m\u001b[33m--d_model\u001b[39;49;00m\u001b[33m'\u001b[39;49;00m, \u001b[36mtype\u001b[39;49;00m=\u001b[36mint\u001b[39;49;00m, default=\u001b[34m64\u001b[39;49;00m, metavar=\u001b[33m'\u001b[39;49;00m\u001b[33mN\u001b[39;49;00m\u001b[33m'\u001b[39;49;00m,\r\n",
      "                        help=\u001b[33m'\u001b[39;49;00m\u001b[33mModel dimension (default: 64)\u001b[39;49;00m\u001b[33m'\u001b[39;49;00m)\r\n",
      "    parser.add_argument(\u001b[33m'\u001b[39;49;00m\u001b[33m--ffn_dim\u001b[39;49;00m\u001b[33m'\u001b[39;49;00m, \u001b[36mtype\u001b[39;49;00m=\u001b[36mint\u001b[39;49;00m, default=\u001b[34m128\u001b[39;49;00m, metavar=\u001b[33m'\u001b[39;49;00m\u001b[33mN\u001b[39;49;00m\u001b[33m'\u001b[39;49;00m,\r\n",
      "                        help=\u001b[33m'\u001b[39;49;00m\u001b[33msize of the FFN layer (default: 128)\u001b[39;49;00m\u001b[33m'\u001b[39;49;00m)\r\n",
      "    parser.add_argument(\u001b[33m'\u001b[39;49;00m\u001b[33m--vocab_size\u001b[39;49;00m\u001b[33m'\u001b[39;49;00m, \u001b[36mtype\u001b[39;49;00m=\u001b[36mint\u001b[39;49;00m, default=\u001b[34m10000\u001b[39;49;00m, metavar=\u001b[33m'\u001b[39;49;00m\u001b[33mN\u001b[39;49;00m\u001b[33m'\u001b[39;49;00m,\r\n",
      "                        help=\u001b[33m'\u001b[39;49;00m\u001b[33msize of the vocabulary (default: 10000)\u001b[39;49;00m\u001b[33m'\u001b[39;49;00m)\r\n",
      "    parser.add_argument(\u001b[33m'\u001b[39;49;00m\u001b[33m--n_layers\u001b[39;49;00m\u001b[33m'\u001b[39;49;00m, \u001b[36mtype\u001b[39;49;00m=\u001b[36mint\u001b[39;49;00m, default=\u001b[34m4\u001b[39;49;00m, metavar=\u001b[33m'\u001b[39;49;00m\u001b[33mN\u001b[39;49;00m\u001b[33m'\u001b[39;49;00m,\r\n",
      "                        help=\u001b[33m'\u001b[39;49;00m\u001b[33mnumber of layers (default: 4)\u001b[39;49;00m\u001b[33m'\u001b[39;49;00m)\r\n",
      "    parser.add_argument(\u001b[33m'\u001b[39;49;00m\u001b[33m--n_heads\u001b[39;49;00m\u001b[33m'\u001b[39;49;00m, \u001b[36mtype\u001b[39;49;00m=\u001b[36mint\u001b[39;49;00m, default=\u001b[34m8\u001b[39;49;00m, metavar=\u001b[33m'\u001b[39;49;00m\u001b[33mN\u001b[39;49;00m\u001b[33m'\u001b[39;49;00m,\r\n",
      "                        help=\u001b[33m'\u001b[39;49;00m\u001b[33mnumber of heads (default: 8)\u001b[39;49;00m\u001b[33m'\u001b[39;49;00m)\r\n",
      "    parser.add_argument(\u001b[33m'\u001b[39;49;00m\u001b[33m--dropout_rate\u001b[39;49;00m\u001b[33m'\u001b[39;49;00m, \u001b[36mtype\u001b[39;49;00m=\u001b[36mfloat\u001b[39;49;00m, default=\u001b[34m0.1\u001b[39;49;00m, metavar=\u001b[33m'\u001b[39;49;00m\u001b[33mN\u001b[39;49;00m\u001b[33m'\u001b[39;49;00m,\r\n",
      "                        help=\u001b[33m'\u001b[39;49;00m\u001b[33mDropout rate (default: 0.1)\u001b[39;49;00m\u001b[33m'\u001b[39;49;00m)\r\n",
      "\r\n",
      "    \u001b[37m# SageMaker Parameters\u001b[39;49;00m\r\n",
      "    parser.add_argument(\u001b[33m'\u001b[39;49;00m\u001b[33m--hosts\u001b[39;49;00m\u001b[33m'\u001b[39;49;00m, \u001b[36mtype\u001b[39;49;00m=\u001b[36mlist\u001b[39;49;00m, default=json.loads(os.environ[\u001b[33m'\u001b[39;49;00m\u001b[33mSM_HOSTS\u001b[39;49;00m\u001b[33m'\u001b[39;49;00m]))\r\n",
      "    parser.add_argument(\u001b[33m'\u001b[39;49;00m\u001b[33m--current-host\u001b[39;49;00m\u001b[33m'\u001b[39;49;00m, \u001b[36mtype\u001b[39;49;00m=\u001b[36mstr\u001b[39;49;00m, default=os.environ[\u001b[33m'\u001b[39;49;00m\u001b[33mSM_CURRENT_HOST\u001b[39;49;00m\u001b[33m'\u001b[39;49;00m])\r\n",
      "    parser.add_argument(\u001b[33m'\u001b[39;49;00m\u001b[33m--sm-model-dir\u001b[39;49;00m\u001b[33m'\u001b[39;49;00m, \u001b[36mtype\u001b[39;49;00m=\u001b[36mstr\u001b[39;49;00m, default=os.environ[\u001b[33m'\u001b[39;49;00m\u001b[33mSM_MODEL_DIR\u001b[39;49;00m\u001b[33m'\u001b[39;49;00m])\r\n",
      "    parser.add_argument(\u001b[33m'\u001b[39;49;00m\u001b[33m--model_dir\u001b[39;49;00m\u001b[33m'\u001b[39;49;00m, \u001b[36mtype\u001b[39;49;00m=\u001b[36mstr\u001b[39;49;00m)\r\n",
      "    parser.add_argument(\u001b[33m'\u001b[39;49;00m\u001b[33m--data-dir\u001b[39;49;00m\u001b[33m'\u001b[39;49;00m, \u001b[36mtype\u001b[39;49;00m=\u001b[36mstr\u001b[39;49;00m, default=os.environ[\u001b[33m'\u001b[39;49;00m\u001b[33mSM_CHANNEL_TRAINING\u001b[39;49;00m\u001b[33m'\u001b[39;49;00m])\r\n",
      "    parser.add_argument(\u001b[33m'\u001b[39;49;00m\u001b[33m--num-gpus\u001b[39;49;00m\u001b[33m'\u001b[39;49;00m, \u001b[36mtype\u001b[39;49;00m=\u001b[36mint\u001b[39;49;00m, default=os.environ[\u001b[33m'\u001b[39;49;00m\u001b[33mSM_NUM_GPUS\u001b[39;49;00m\u001b[33m'\u001b[39;49;00m])\r\n",
      "    parser.add_argument(\u001b[33m'\u001b[39;49;00m\u001b[33m--output-data-dir\u001b[39;49;00m\u001b[33m'\u001b[39;49;00m, \u001b[36mtype\u001b[39;49;00m=\u001b[36mstr\u001b[39;49;00m, default=os.environ[\u001b[33m'\u001b[39;49;00m\u001b[33mSM_OUTPUT_DATA_DIR\u001b[39;49;00m\u001b[33m'\u001b[39;49;00m])\r\n",
      "\r\n",
      "    args = parser.parse_args()\r\n",
      "\r\n",
      "    \u001b[36mprint\u001b[39;49;00m(args.sm_model_dir, args.model_dir)\r\n",
      "    \u001b[37m# Load the training data.\u001b[39;49;00m\r\n",
      "    \u001b[36mprint\u001b[39;49;00m(\u001b[33m\"\u001b[39;49;00m\u001b[33mGet the train data\u001b[39;49;00m\u001b[33m\"\u001b[39;49;00m)\r\n",
      "    input_data, target_data = get_train_data(args.data_dir, args.non_breaking_in, args.non_breaking_out, args.train_file, args.nsamples)\r\n",
      "\r\n",
      "    \u001b[37m# Tokenize and pad the input sequences\u001b[39;49;00m\r\n",
      "    \u001b[36mprint\u001b[39;49;00m(\u001b[33m\"\u001b[39;49;00m\u001b[33mTokenize the input and output data and create the vocabularies\u001b[39;49;00m\u001b[33m\"\u001b[39;49;00m) \r\n",
      "    encoder_inputs, tokenizer_inputs, num_words_inputs, sos_token_input, eos_token_input, del_idx_inputs= subword_tokenize(input_data, \r\n",
      "                                                                                                        args.vocab_size, args.max_len)\r\n",
      "    \u001b[37m# Tokenize and pad the outputs sequences\u001b[39;49;00m\r\n",
      "    decoder_outputs, tokenizer_outputs, num_words_output, sos_token_output, eos_token_output, del_idx_outputs = subword_tokenize(target_data,                                                                                                       args.vocab_size, args.max_len)\r\n",
      "    \u001b[36mprint\u001b[39;49;00m(\u001b[33m'\u001b[39;49;00m\u001b[33mInput vocab: \u001b[39;49;00m\u001b[33m'\u001b[39;49;00m,num_words_inputs)\r\n",
      "    \u001b[36mprint\u001b[39;49;00m(\u001b[33m'\u001b[39;49;00m\u001b[33mOutput vocab: \u001b[39;49;00m\u001b[33m'\u001b[39;49;00m,num_words_output)\r\n",
      "    \r\n",
      "    \u001b[37m# Define a dataset \u001b[39;49;00m\r\n",
      "    dataset = tf.data.Dataset.from_tensor_slices(\r\n",
      "                    (encoder_inputs, decoder_outputs))\r\n",
      "    dataset = dataset.shuffle(\u001b[36mlen\u001b[39;49;00m(input_data), reshuffle_each_iteration=\u001b[34mTrue\u001b[39;49;00m).batch(\r\n",
      "                    args.batch_size, drop_remainder=\u001b[34mTrue\u001b[39;49;00m)\r\n",
      "    dataset = dataset.prefetch(tf.data.experimental.AUTOTUNE)\r\n",
      "\r\n",
      "    \u001b[37m# Clean the session\u001b[39;49;00m\r\n",
      "    tf.keras.backend.clear_session()\r\n",
      "    \u001b[37m# Create the Transformer model\u001b[39;49;00m\r\n",
      "    transformer = Transformer(vocab_size_enc=num_words_inputs,\r\n",
      "                          vocab_size_dec=num_words_output,\r\n",
      "                          d_model=args.d_model,\r\n",
      "                          n_layers=args.n_layers,\r\n",
      "                          FFN_units=args.ffn_dim,\r\n",
      "                          n_heads=args.n_heads,\r\n",
      "                          dropout_rate=args.dropout_rate)\r\n",
      "\r\n",
      "    \u001b[37m# Define a categorical cross entropy loss\u001b[39;49;00m\r\n",
      "    loss_object = tf.keras.losses.SparseCategoricalCrossentropy(from_logits=\u001b[34mTrue\u001b[39;49;00m,\r\n",
      "                                                            reduction=\u001b[33m\"\u001b[39;49;00m\u001b[33mnone\u001b[39;49;00m\u001b[33m\"\u001b[39;49;00m)\r\n",
      "    \u001b[37m# Define a metric to store the mean loss of every epoch\u001b[39;49;00m\r\n",
      "    train_loss = tf.keras.metrics.Mean(name=\u001b[33m\"\u001b[39;49;00m\u001b[33mtrain_loss\u001b[39;49;00m\u001b[33m\"\u001b[39;49;00m)\r\n",
      "    \u001b[37m# Define a matric to save the accuracy in every epoch\u001b[39;49;00m\r\n",
      "    train_accuracy = tf.keras.metrics.SparseCategoricalAccuracy(name=\u001b[33m\"\u001b[39;49;00m\u001b[33mtrain_accuracy\u001b[39;49;00m\u001b[33m\"\u001b[39;49;00m)\r\n",
      "    \u001b[37m# Create the scheduler for learning rate decay\u001b[39;49;00m\r\n",
      "    leaning_rate = CustomSchedule(args.d_model)\r\n",
      "    \u001b[37m# Create the Adam optimizer\u001b[39;49;00m\r\n",
      "    optimizer = tf.keras.optimizers.Adam(leaning_rate,\r\n",
      "                                     beta_1=\u001b[34m0.9\u001b[39;49;00m,\r\n",
      "                                     beta_2=\u001b[34m0.98\u001b[39;49;00m,\r\n",
      "                                     epsilon=\u001b[34m1e-9\u001b[39;49;00m)\r\n",
      "\r\n",
      "    \u001b[37m#Create the Checkpoint \u001b[39;49;00m\r\n",
      "    \u001b[36mprint\u001b[39;49;00m(\u001b[33m'\u001b[39;49;00m\u001b[33mCreating the checkpoint ...\u001b[39;49;00m\u001b[33m'\u001b[39;49;00m)\r\n",
      "    ckpt = tf.train.Checkpoint(transformer=transformer,\r\n",
      "                           optimizer=optimizer)\r\n",
      "\r\n",
      "    ckpt_manager = tf.train.CheckpointManager(ckpt, \u001b[33m'\u001b[39;49;00m\u001b[33m/opt/ml/checkpoints/\u001b[39;49;00m\u001b[33m'\u001b[39;49;00m, max_to_keep=\u001b[34m1\u001b[39;49;00m)\r\n",
      "    \u001b[37m# Restore from the latest checkpoint if requiered\u001b[39;49;00m\r\n",
      "    \u001b[34mif\u001b[39;49;00m ckpt_manager.latest_checkpoint \u001b[35mand\u001b[39;49;00m args.resume:\r\n",
      "        ckpt.restore(ckpt_manager.latest_checkpoint)\r\n",
      "        \u001b[36mprint\u001b[39;49;00m(\u001b[33m\"\u001b[39;49;00m\u001b[33mLast checkpoint restored.\u001b[39;49;00m\u001b[33m\"\u001b[39;49;00m)\r\n",
      "    \u001b[37m# to save the model in tf 2.1.0\u001b[39;49;00m\r\n",
      "    \u001b[37m#print('Preparing the model to be saved....')\u001b[39;49;00m\r\n",
      "    \u001b[37m#for enc_inputs, targets in dataset.take(1):\u001b[39;49;00m\r\n",
      "    \u001b[37m#    dec_inputs = targets[:, :-1]\u001b[39;49;00m\r\n",
      "    \u001b[37m#    print (enc_inputs.shape, dec_inputs.shape)\u001b[39;49;00m\r\n",
      "    \u001b[37m#    transformer._set_inputs(enc_inputs, dec_inputs, True)\u001b[39;49;00m\r\n",
      "\r\n",
      "    \u001b[37m# Train the model\u001b[39;49;00m\r\n",
      "    \u001b[36mprint\u001b[39;49;00m(\u001b[33m'\u001b[39;49;00m\u001b[33mTraining the model ....\u001b[39;49;00m\u001b[33m'\u001b[39;49;00m)\r\n",
      "    losses, accuracies = main_train(dataset, transformer, args.epochs, \u001b[34m100\u001b[39;49;00m)\r\n",
      "\r\n",
      "    \u001b[37m# Save the while model\u001b[39;49;00m\r\n",
      "    \u001b[37m# Save the entire model to a HDF5 file\u001b[39;49;00m\r\n",
      "    \u001b[36mprint\u001b[39;49;00m(\u001b[33m'\u001b[39;49;00m\u001b[33mSaving the model ....\u001b[39;49;00m\u001b[33m'\u001b[39;49;00m)\r\n",
      "    transformer.save_weights(os.path.join(args.sm_model_dir, \u001b[33m'\u001b[39;49;00m\u001b[33mtransformer\u001b[39;49;00m\u001b[33m'\u001b[39;49;00m), overwrite=\u001b[34mTrue\u001b[39;49;00m, save_format=\u001b[33m'\u001b[39;49;00m\u001b[33mtf\u001b[39;49;00m\u001b[33m'\u001b[39;49;00m)\r\n",
      "    \u001b[37m#transformer.save_weights(args.sm_model_dir, overwrite=True, save_format='tf')\u001b[39;49;00m\r\n",
      "    \u001b[37m# Save the parameters used to construct the model\u001b[39;49;00m\r\n",
      "    \u001b[36mprint\u001b[39;49;00m(\u001b[33m\"\u001b[39;49;00m\u001b[33mSaving the model parameters\u001b[39;49;00m\u001b[33m\"\u001b[39;49;00m)\r\n",
      "    model_info_path = os.path.join(args.output_data_dir, \u001b[33m'\u001b[39;49;00m\u001b[33mmodel_info.pth\u001b[39;49;00m\u001b[33m'\u001b[39;49;00m)\r\n",
      "    \u001b[34mwith\u001b[39;49;00m \u001b[36mopen\u001b[39;49;00m(model_info_path, \u001b[33m'\u001b[39;49;00m\u001b[33mwb\u001b[39;49;00m\u001b[33m'\u001b[39;49;00m) \u001b[34mas\u001b[39;49;00m f:\r\n",
      "        model_info = {\r\n",
      "            \u001b[33m'\u001b[39;49;00m\u001b[33mvocab_size_enc\u001b[39;49;00m\u001b[33m'\u001b[39;49;00m: num_words_inputs,\r\n",
      "            \u001b[33m'\u001b[39;49;00m\u001b[33mvocab_size_dec\u001b[39;49;00m\u001b[33m'\u001b[39;49;00m: num_words_output,\r\n",
      "            \u001b[33m'\u001b[39;49;00m\u001b[33msos_token_input\u001b[39;49;00m\u001b[33m'\u001b[39;49;00m: sos_token_input,\r\n",
      "            \u001b[33m'\u001b[39;49;00m\u001b[33meos_token_input\u001b[39;49;00m\u001b[33m'\u001b[39;49;00m: eos_token_input,\r\n",
      "            \u001b[33m'\u001b[39;49;00m\u001b[33msos_token_output\u001b[39;49;00m\u001b[33m'\u001b[39;49;00m: sos_token_output,\r\n",
      "            \u001b[33m'\u001b[39;49;00m\u001b[33meos_token_output\u001b[39;49;00m\u001b[33m'\u001b[39;49;00m: eos_token_output,\r\n",
      "            \u001b[33m'\u001b[39;49;00m\u001b[33mn_layers\u001b[39;49;00m\u001b[33m'\u001b[39;49;00m: args.n_layers,\r\n",
      "            \u001b[33m'\u001b[39;49;00m\u001b[33md_model\u001b[39;49;00m\u001b[33m'\u001b[39;49;00m: args.d_model,\r\n",
      "            \u001b[33m'\u001b[39;49;00m\u001b[33mffn_dim\u001b[39;49;00m\u001b[33m'\u001b[39;49;00m: args.ffn_dim,\r\n",
      "            \u001b[33m'\u001b[39;49;00m\u001b[33mn_heads\u001b[39;49;00m\u001b[33m'\u001b[39;49;00m: args.n_heads,\r\n",
      "            \u001b[33m'\u001b[39;49;00m\u001b[33mdrop_rate\u001b[39;49;00m\u001b[33m'\u001b[39;49;00m: args.dropout_rate\r\n",
      "        }\r\n",
      "        pickle.dump(model_info, f)\r\n",
      "          \r\n",
      "\t\u001b[37m# Save the tokenizers with the vocabularies\u001b[39;49;00m\r\n",
      "    \u001b[36mprint\u001b[39;49;00m(\u001b[33m'\u001b[39;49;00m\u001b[33mSaving the dictionaries ....\u001b[39;49;00m\u001b[33m'\u001b[39;49;00m)\r\n",
      "    vocabulary_in = os.path.join(args.output_data_dir, \u001b[33m'\u001b[39;49;00m\u001b[33min_vocab.pkl\u001b[39;49;00m\u001b[33m'\u001b[39;49;00m)\r\n",
      "    \u001b[34mwith\u001b[39;49;00m \u001b[36mopen\u001b[39;49;00m(vocabulary_in, \u001b[33m'\u001b[39;49;00m\u001b[33mwb\u001b[39;49;00m\u001b[33m'\u001b[39;49;00m) \u001b[34mas\u001b[39;49;00m f:\r\n",
      "        pickle.dump(tokenizer_inputs, f)\r\n",
      "\r\n",
      "    vocabulary_out = os.path.join(args.output_data_dir, \u001b[33m'\u001b[39;49;00m\u001b[33mout_vocab.pkl\u001b[39;49;00m\u001b[33m'\u001b[39;49;00m)\r\n",
      "    \u001b[34mwith\u001b[39;49;00m \u001b[36mopen\u001b[39;49;00m(vocabulary_out, \u001b[33m'\u001b[39;49;00m\u001b[33mwb\u001b[39;49;00m\u001b[33m'\u001b[39;49;00m) \u001b[34mas\u001b[39;49;00m f:\r\n",
      "        pickle.dump(tokenizer_outputs, f)\r\n"
     ]
    }
   ],
   "source": [
    "!pygmentize 'train/train.py'"
   ]
  },
  {
   "cell_type": "markdown",
   "metadata": {},
   "source": [
    "Our source code needs the tensorflow_dataset library and it is not include in the Tensorflow 2.1. container image provided by SageMaker. To solve this issue we explicitly install it in our train.py file using the command `subprocess.check_call([sys.executable, \"-q\", \"-m\", \"pip\", \"install\", package])`."
   ]
  },
  {
   "cell_type": "markdown",
   "metadata": {},
   "source": [
    "# Create a training job using the `TensorFlow` estimator\n",
    "\n",
    "The `sagemaker.tensorflow.TensorFlow` estimator handles locating the script mode container where the model will run, uploading your script or source code to a S3 location and creating a SageMaker training job. Let's call out a couple important parameters here:\n",
    "\n",
    "* `source_dir`and `entry_point`, the folder with the source code and the file to run the training.\n",
    "* `framework_version` is the tensorflow version we want to run our code.\n",
    "* `py_version` is set to `'py3'` to indicate that we are using script mode since legacy mode supports only Python 2. Though Python 2 will be deprecated soon, you can use script mode with Python 2 by setting `py_version` to `'py2'` and `script_mode` to `True`.\n",
    "* `code_location` is a S3 folder URI where the `source_dir` will be upload. When the instace starts the content of that folder will be downloaded to a local path, `opt/ml/code`. The `entry_point`, our main code or function, has to be included in that folder.\n",
    "* `output_path` is the S3 path where all the outputs of our training job will be uploaded when the training ends. In our example we will upload to this S3 folder the local content in the folders `SM_MODEL_DIR` and `SM_OUTPUT_DATA_DIR`.\n",
    "* the `checkpoint_local_path`and `checkpoint_s3_uri` parameters will be explained in the next section **\"Resume training from a checkpoint\"**\n",
    "* `script_mode = True` to set script mode. "
   ]
  },
  {
   "cell_type": "code",
   "execution_count": 14,
   "metadata": {},
   "outputs": [],
   "source": [
    "from sagemaker.tensorflow import TensorFlow"
   ]
  },
  {
   "cell_type": "code",
   "execution_count": 26,
   "metadata": {},
   "outputs": [],
   "source": [
    "# Uncomment the type of instance to use\n",
    "#instance_type='ml.m4.4xlarge'\n",
    "instance_type='ml.p2.xlarge'\n",
    "#instance_type='local'"
   ]
  },
  {
   "cell_type": "markdown",
   "metadata": {},
   "source": [
    "Another important parameter of our Tensorflow estimator is the `instance_type` that is the type of \"virtual machine\" where the container will run. The values we play around in this project are:\n",
    "- local: The container will run locally on the notebook instance. this is very useful to debug or verify that our estimator definition is correct and the train.py runs successfully. It is much more faster to run the container locally, the start up time for a remote instance is too long when you are coding and debugging.\n",
    "- ml.mX.Yxlarge: It is a CPU instance, when you are running your code for a short train, maybe for validation purposes. Check AWS documentation for a list of alternative instance.\n",
    "- ml.p2.xlarge: This instance use a GPU and it is the preferred one when you want to launch a long running training.\n",
    "\n",
    "When running in local mode, some estimator functionalities are not available like uploading the checkpoints to S3 and its parameters should not be defined."
   ]
  },
  {
   "cell_type": "markdown",
   "metadata": {},
   "source": [
    "Finally we want to mention the definition of metrics. Using a dictionary, we can define a metric name and the regular expression to extract its value from the messages the training script writes on the logs or the stdout during training. Later we can see those metrics in the SageMaker console. We show you how to do it in a following section.\n"
   ]
  },
  {
   "cell_type": "code",
   "execution_count": 15,
   "metadata": {},
   "outputs": [],
   "source": [
    "# Define the metrics to search for\n",
    "metric_definitions = [{'Name': 'loss', 'Regex': 'Loss ([0-9\\\\.]+)'},{'Name': 'Accuracy', 'Regex': 'Accuracy ([0-9\\\\.]+)'}]"
   ]
  },
  {
   "cell_type": "markdown",
   "metadata": {},
   "source": [
    "Now, we can define the estimator:"
   ]
  },
  {
   "cell_type": "code",
   "execution_count": 28,
   "metadata": {},
   "outputs": [],
   "source": [
    "# Create the Tensorflow estimator using a Tensorflow 2.1 container\n",
    "estimator = TensorFlow(entry_point='train.py',\n",
    "                       source_dir=\"train\",\n",
    "                       role=role,\n",
    "                       instance_count=1,\n",
    "                       instance_type=instance_type,\n",
    "                       framework_version='2.1.0',\n",
    "                       py_version='py3',\n",
    "                       output_path=output_data_uri,\n",
    "                       code_location=output_data_uri,\n",
    "                       base_job_name='tf-transformer',\n",
    "                       script_mode= True,\n",
    "                       #checkpoint_local_path = 'ckpt', #Use default value /opt/ml/checkpoint\n",
    "                       checkpoint_s3_uri = ckpt_data_uri,\n",
    "                       metric_definitions = metric_definitions, \n",
    "                       hyperparameters={\n",
    "                        'epochs': 8,\n",
    "                        'nsamples': 60000,\n",
    "                        'resume': False,\n",
    "                        'train_file': 'spa.txt',\n",
    "                        'non_breaking_in': 'nonbreaking_prefix.en',\n",
    "                        'non_breaking_out': 'nonbreaking_prefix.es'\n",
    "                       })\n"
   ]
  },
  {
   "cell_type": "markdown",
   "metadata": {},
   "source": [
    "# Start the training job: ``fit``\n",
    "\n",
    "To start a training job, we call `estimator.fit` method with the a few parameter values.\n",
    "\n",
    "- An S3 location is used here as the input. `fit` creates a default channel named `'training'`, which points to this S3 location. In the training script we can access the training data from the local location stored in `SM_CHANNEL_TRAINING`. `fit` accepts a couple other types of input as well. See the API doc [here](https://sagemaker.readthedocs.io/en/stable/estimators.html#sagemaker.estimator.EstimatorBase.fit) for details.\n",
    "- `job_name` the name for the training job.\n",
    "- `experiment_config` the dictionary with the name of the experiment and trial to attach this job to.\n",
    "\n",
    "\n",
    "When training starts, the TensorFlow container executes `train.py`, passing `hyperparameters` and `model_dir` from the estimator as script arguments. Because we didn't explicitly define it, `model_dir` defaults to `s3://<DEFAULT_BUCKET>/<TRAINING_JOB_NAME>/model`, so the script execution is as follows:\n",
    "```bash\n",
    "python train.py --model_dir s3://<DEFAULT_BUCKET>/<TRAINING_JOB_NAME>/model --epochs=1 --nsamples=5000 ...\n",
    "```\n",
    "\n",
    "When training is complete, the training job will upload the saved model and other output artifacts to S3."
   ]
  },
  {
   "cell_type": "code",
   "execution_count": 29,
   "metadata": {},
   "outputs": [
    {
     "name": "stdout",
     "output_type": "stream",
     "text": [
      "tf-transformer-single-gpu-2020-11-12-12-25-30\n"
     ]
    }
   ],
   "source": [
    "# Set the job name and show it\n",
    "job_name = '{}-{}'.format(trial_name,time.strftime(\"%Y-%m-%d-%H-%M-%S\", time.gmtime()))\n",
    "print(job_name)"
   ]
  },
  {
   "cell_type": "markdown",
   "metadata": {},
   "source": [
    "Calling fit to train a model with TensorFlow 2.1 scroipt."
   ]
  },
  {
   "cell_type": "code",
   "execution_count": 30,
   "metadata": {
    "scrolled": false
   },
   "outputs": [
    {
     "name": "stderr",
     "output_type": "stream",
     "text": [
      "INFO:sagemaker:Creating training-job with name: tf-transformer-single-gpu-2020-11-12-12-25-30\n"
     ]
    },
    {
     "name": "stdout",
     "output_type": "stream",
     "text": [
      "2020-11-12 12:25:33 Starting - Starting the training job...\n",
      "2020-11-12 12:25:39 Starting - Launching requested ML instances......\n",
      "2020-11-12 12:26:52 Starting - Preparing the instances for training.........\n",
      "2020-11-12 12:28:30 Downloading - Downloading input data\n",
      "2020-11-12 12:28:30 Training - Downloading the training image...........\u001b[34m2020-11-12 12:30:19,406 sagemaker-containers INFO     Imported framework sagemaker_tensorflow_container.training\u001b[0m\n",
      "\u001b[34m2020-11-12 12:30:19,885 sagemaker-containers INFO     Invoking user script\n",
      "\u001b[0m\n",
      "\u001b[34mTraining Env:\n",
      "\u001b[0m\n",
      "\u001b[34m{\n",
      "    \"additional_framework_parameters\": {},\n",
      "    \"channel_input_dirs\": {\n",
      "        \"training\": \"/opt/ml/input/data/training\"\n",
      "    },\n",
      "    \"current_host\": \"algo-1\",\n",
      "    \"framework_module\": \"sagemaker_tensorflow_container.training:main\",\n",
      "    \"hosts\": [\n",
      "        \"algo-1\"\n",
      "    ],\n",
      "    \"hyperparameters\": {\n",
      "        \"resume\": false,\n",
      "        \"non_breaking_out\": \"nonbreaking_prefix.es\",\n",
      "        \"nsamples\": 60000,\n",
      "        \"train_file\": \"spa.txt\",\n",
      "        \"model_dir\": \"s3://edumunozsala-ml-sagemaker/transformer-nmt/tf-transformer-single-gpu-2020-11-12-12-25-30/model\",\n",
      "        \"non_breaking_in\": \"nonbreaking_prefix.en\",\n",
      "        \"epochs\": 8\n",
      "    },\n",
      "    \"input_config_dir\": \"/opt/ml/input/config\",\n",
      "    \"input_data_config\": {\n",
      "        \"training\": {\n",
      "            \"TrainingInputMode\": \"File\",\n",
      "            \"S3DistributionType\": \"FullyReplicated\",\n",
      "            \"RecordWrapperType\": \"None\"\n",
      "        }\n",
      "    },\n",
      "    \"input_dir\": \"/opt/ml/input\",\n",
      "    \"is_master\": true,\n",
      "    \"job_name\": \"tf-transformer-single-gpu-2020-11-12-12-25-30\",\n",
      "    \"log_level\": 20,\n",
      "    \"master_hostname\": \"algo-1\",\n",
      "    \"model_dir\": \"/opt/ml/model\",\n",
      "    \"module_dir\": \"s3://edumunozsala-ml-sagemaker/transformer-nmt/tf-transformer-single-gpu-2020-11-12-12-25-30/source/sourcedir.tar.gz\",\n",
      "    \"module_name\": \"train\",\n",
      "    \"network_interface_name\": \"eth0\",\n",
      "    \"num_cpus\": 4,\n",
      "    \"num_gpus\": 1,\n",
      "    \"output_data_dir\": \"/opt/ml/output/data\",\n",
      "    \"output_dir\": \"/opt/ml/output\",\n",
      "    \"output_intermediate_dir\": \"/opt/ml/output/intermediate\",\n",
      "    \"resource_config\": {\n",
      "        \"current_host\": \"algo-1\",\n",
      "        \"hosts\": [\n",
      "            \"algo-1\"\n",
      "        ],\n",
      "        \"network_interface_name\": \"eth0\"\n",
      "    },\n",
      "    \"user_entry_point\": \"train.py\"\u001b[0m\n",
      "\u001b[34m}\n",
      "\u001b[0m\n",
      "\u001b[34mEnvironment variables:\n",
      "\u001b[0m\n",
      "\u001b[34mSM_HOSTS=[\"algo-1\"]\u001b[0m\n",
      "\u001b[34mSM_NETWORK_INTERFACE_NAME=eth0\u001b[0m\n",
      "\u001b[34mSM_HPS={\"epochs\":8,\"model_dir\":\"s3://edumunozsala-ml-sagemaker/transformer-nmt/tf-transformer-single-gpu-2020-11-12-12-25-30/model\",\"non_breaking_in\":\"nonbreaking_prefix.en\",\"non_breaking_out\":\"nonbreaking_prefix.es\",\"nsamples\":60000,\"resume\":false,\"train_file\":\"spa.txt\"}\u001b[0m\n",
      "\u001b[34mSM_USER_ENTRY_POINT=train.py\u001b[0m\n",
      "\u001b[34mSM_FRAMEWORK_PARAMS={}\u001b[0m\n",
      "\u001b[34mSM_RESOURCE_CONFIG={\"current_host\":\"algo-1\",\"hosts\":[\"algo-1\"],\"network_interface_name\":\"eth0\"}\u001b[0m\n",
      "\u001b[34mSM_INPUT_DATA_CONFIG={\"training\":{\"RecordWrapperType\":\"None\",\"S3DistributionType\":\"FullyReplicated\",\"TrainingInputMode\":\"File\"}}\u001b[0m\n",
      "\u001b[34mSM_OUTPUT_DATA_DIR=/opt/ml/output/data\u001b[0m\n",
      "\u001b[34mSM_CHANNELS=[\"training\"]\u001b[0m\n",
      "\u001b[34mSM_CURRENT_HOST=algo-1\u001b[0m\n",
      "\u001b[34mSM_MODULE_NAME=train\u001b[0m\n",
      "\u001b[34mSM_LOG_LEVEL=20\u001b[0m\n",
      "\u001b[34mSM_FRAMEWORK_MODULE=sagemaker_tensorflow_container.training:main\u001b[0m\n",
      "\u001b[34mSM_INPUT_DIR=/opt/ml/input\u001b[0m\n",
      "\u001b[34mSM_INPUT_CONFIG_DIR=/opt/ml/input/config\u001b[0m\n",
      "\u001b[34mSM_OUTPUT_DIR=/opt/ml/output\u001b[0m\n",
      "\u001b[34mSM_NUM_CPUS=4\u001b[0m\n",
      "\u001b[34mSM_NUM_GPUS=1\u001b[0m\n",
      "\u001b[34mSM_MODEL_DIR=/opt/ml/model\u001b[0m\n",
      "\u001b[34mSM_MODULE_DIR=s3://edumunozsala-ml-sagemaker/transformer-nmt/tf-transformer-single-gpu-2020-11-12-12-25-30/source/sourcedir.tar.gz\u001b[0m\n",
      "\u001b[34mSM_TRAINING_ENV={\"additional_framework_parameters\":{},\"channel_input_dirs\":{\"training\":\"/opt/ml/input/data/training\"},\"current_host\":\"algo-1\",\"framework_module\":\"sagemaker_tensorflow_container.training:main\",\"hosts\":[\"algo-1\"],\"hyperparameters\":{\"epochs\":8,\"model_dir\":\"s3://edumunozsala-ml-sagemaker/transformer-nmt/tf-transformer-single-gpu-2020-11-12-12-25-30/model\",\"non_breaking_in\":\"nonbreaking_prefix.en\",\"non_breaking_out\":\"nonbreaking_prefix.es\",\"nsamples\":60000,\"resume\":false,\"train_file\":\"spa.txt\"},\"input_config_dir\":\"/opt/ml/input/config\",\"input_data_config\":{\"training\":{\"RecordWrapperType\":\"None\",\"S3DistributionType\":\"FullyReplicated\",\"TrainingInputMode\":\"File\"}},\"input_dir\":\"/opt/ml/input\",\"is_master\":true,\"job_name\":\"tf-transformer-single-gpu-2020-11-12-12-25-30\",\"log_level\":20,\"master_hostname\":\"algo-1\",\"model_dir\":\"/opt/ml/model\",\"module_dir\":\"s3://edumunozsala-ml-sagemaker/transformer-nmt/tf-transformer-single-gpu-2020-11-12-12-25-30/source/sourcedir.tar.gz\",\"module_name\":\"train\",\"network_interface_name\":\"eth0\",\"num_cpus\":4,\"num_gpus\":1,\"output_data_dir\":\"/opt/ml/output/data\",\"output_dir\":\"/opt/ml/output\",\"output_intermediate_dir\":\"/opt/ml/output/intermediate\",\"resource_config\":{\"current_host\":\"algo-1\",\"hosts\":[\"algo-1\"],\"network_interface_name\":\"eth0\"},\"user_entry_point\":\"train.py\"}\u001b[0m\n",
      "\u001b[34mSM_USER_ARGS=[\"--epochs\",\"8\",\"--model_dir\",\"s3://edumunozsala-ml-sagemaker/transformer-nmt/tf-transformer-single-gpu-2020-11-12-12-25-30/model\",\"--non_breaking_in\",\"nonbreaking_prefix.en\",\"--non_breaking_out\",\"nonbreaking_prefix.es\",\"--nsamples\",\"60000\",\"--resume\",\"False\",\"--train_file\",\"spa.txt\"]\u001b[0m\n",
      "\u001b[34mSM_OUTPUT_INTERMEDIATE_DIR=/opt/ml/output/intermediate\u001b[0m\n",
      "\u001b[34mSM_CHANNEL_TRAINING=/opt/ml/input/data/training\u001b[0m\n",
      "\u001b[34mSM_HP_RESUME=false\u001b[0m\n",
      "\u001b[34mSM_HP_NON_BREAKING_OUT=nonbreaking_prefix.es\u001b[0m\n",
      "\u001b[34mSM_HP_NSAMPLES=60000\u001b[0m\n",
      "\u001b[34mSM_HP_TRAIN_FILE=spa.txt\u001b[0m\n",
      "\u001b[34mSM_HP_MODEL_DIR=s3://edumunozsala-ml-sagemaker/transformer-nmt/tf-transformer-single-gpu-2020-11-12-12-25-30/model\u001b[0m\n",
      "\u001b[34mSM_HP_NON_BREAKING_IN=nonbreaking_prefix.en\u001b[0m\n",
      "\u001b[34mSM_HP_EPOCHS=8\u001b[0m\n",
      "\u001b[34mPYTHONPATH=/opt/ml/code:/usr/local/bin:/usr/lib/python36.zip:/usr/lib/python3.6:/usr/lib/python3.6/lib-dynload:/usr/local/lib/python3.6/dist-packages:/usr/lib/python3/dist-packages\n",
      "\u001b[0m\n",
      "\u001b[34mInvoking script with the following command:\n",
      "\u001b[0m\n",
      "\u001b[34m/usr/bin/python3 train.py --epochs 8 --model_dir s3://edumunozsala-ml-sagemaker/transformer-nmt/tf-transformer-single-gpu-2020-11-12-12-25-30/model --non_breaking_in nonbreaking_prefix.en --non_breaking_out nonbreaking_prefix.es --nsamples 60000 --resume False --train_file spa.txt\n",
      "\n",
      "\u001b[0m\n",
      "\u001b[34mCollecting tensorflow_datasets\n",
      "  Downloading tensorflow_datasets-4.1.0-py3-none-any.whl (3.6 MB)\u001b[0m\n",
      "\u001b[34mRequirement already satisfied: absl-py in /usr/local/lib/python3.6/dist-packages (from tensorflow_datasets) (0.9.0)\u001b[0m\n",
      "\u001b[34mCollecting importlib-resources; python_version < \"3.9\"\n",
      "  Downloading importlib_resources-3.3.0-py2.py3-none-any.whl (26 kB)\u001b[0m\n",
      "\u001b[34mCollecting tensorflow-metadata\n",
      "  Downloading tensorflow_metadata-0.25.0-py3-none-any.whl (44 kB)\u001b[0m\n",
      "\u001b[34mRequirement already satisfied: six in /usr/local/lib/python3.6/dist-packages (from tensorflow_datasets) (1.14.0)\u001b[0m\n",
      "\u001b[34mRequirement already satisfied: numpy in /usr/local/lib/python3.6/dist-packages (from tensorflow_datasets) (1.18.1)\u001b[0m\n",
      "\u001b[34mCollecting typing-extensions; python_version < \"3.8\"\n",
      "  Downloading typing_extensions-3.7.4.3-py3-none-any.whl (22 kB)\u001b[0m\n",
      "\u001b[34mCollecting tqdm\n",
      "  Downloading tqdm-4.51.0-py2.py3-none-any.whl (70 kB)\u001b[0m\n",
      "\u001b[34mCollecting dill\n",
      "  Downloading dill-0.3.3-py2.py3-none-any.whl (81 kB)\u001b[0m\n",
      "\u001b[34mRequirement already satisfied: requests>=2.19.0 in /usr/local/lib/python3.6/dist-packages (from tensorflow_datasets) (2.22.0)\u001b[0m\n",
      "\u001b[34mCollecting promise\n",
      "  Downloading promise-2.3.tar.gz (19 kB)\u001b[0m\n",
      "\u001b[34mCollecting future\n",
      "  Downloading future-0.18.2.tar.gz (829 kB)\u001b[0m\n",
      "\n",
      "2020-11-12 12:30:13 Training - Training image download completed. Training in progress.\u001b[34mRequirement already satisfied: termcolor in /usr/local/lib/python3.6/dist-packages (from tensorflow_datasets) (1.1.0)\u001b[0m\n",
      "\u001b[34mCollecting dataclasses; python_version < \"3.7\"\n",
      "  Downloading dataclasses-0.7-py3-none-any.whl (18 kB)\u001b[0m\n",
      "\u001b[34mRequirement already satisfied: protobuf>=3.6.1 in /usr/local/lib/python3.6/dist-packages (from tensorflow_datasets) (3.11.3)\u001b[0m\n",
      "\u001b[34mCollecting attrs>=18.1.0\n",
      "  Downloading attrs-20.3.0-py2.py3-none-any.whl (49 kB)\u001b[0m\n",
      "\u001b[34mRequirement already satisfied: zipp>=0.4; python_version < \"3.8\" in /usr/local/lib/python3.6/dist-packages (from importlib-resources; python_version < \"3.9\"->tensorflow_datasets) (3.1.0)\u001b[0m\n",
      "\u001b[34mCollecting googleapis-common-protos<2,>=1.52.0\n",
      "  Downloading googleapis_common_protos-1.52.0-py2.py3-none-any.whl (100 kB)\u001b[0m\n",
      "\u001b[34mRequirement already satisfied: urllib3!=1.25.0,!=1.25.1,<1.26,>=1.21.1 in /usr/local/lib/python3.6/dist-packages (from requests>=2.19.0->tensorflow_datasets) (1.25.9)\u001b[0m\n",
      "\u001b[34mRequirement already satisfied: certifi>=2017.4.17 in /usr/local/lib/python3.6/dist-packages (from requests>=2.19.0->tensorflow_datasets) (2020.4.5.1)\u001b[0m\n",
      "\u001b[34mRequirement already satisfied: chardet<3.1.0,>=3.0.2 in /usr/local/lib/python3.6/dist-packages (from requests>=2.19.0->tensorflow_datasets) (3.0.4)\u001b[0m\n",
      "\u001b[34mRequirement already satisfied: idna<2.9,>=2.5 in /usr/local/lib/python3.6/dist-packages (from requests>=2.19.0->tensorflow_datasets) (2.8)\u001b[0m\n",
      "\u001b[34mRequirement already satisfied: setuptools in /usr/local/lib/python3.6/dist-packages (from protobuf>=3.6.1->tensorflow_datasets) (46.1.3)\u001b[0m\n",
      "\u001b[34mBuilding wheels for collected packages: promise, future\n",
      "  Building wheel for promise (setup.py): started\n",
      "  Building wheel for promise (setup.py): finished with status 'done'\n",
      "  Created wheel for promise: filename=promise-2.3-py3-none-any.whl size=21495 sha256=5bfcc52cd449f0f077404e249a0252f083de1fc5a2950e1eede78546f1c0db75\n",
      "  Stored in directory: /root/.cache/pip/wheels/59/9a/1d/3f1afbbb5122d0410547bf9eb50955f4a7a98e53a6d8b99bd1\n",
      "  Building wheel for future (setup.py): started\u001b[0m\n",
      "\u001b[34m  Building wheel for future (setup.py): finished with status 'done'\n",
      "  Created wheel for future: filename=future-0.18.2-py3-none-any.whl size=491058 sha256=3897bdb5f59ddb7663519e2e63bce2390ad30686d73d2202d0e0a5b80c16db55\n",
      "  Stored in directory: /root/.cache/pip/wheels/6e/9c/ed/4499c9865ac1002697793e0ae05ba6be33553d098f3347fb94\u001b[0m\n",
      "\u001b[34mSuccessfully built promise future\u001b[0m\n",
      "\u001b[34mInstalling collected packages: importlib-resources, googleapis-common-protos, tensorflow-metadata, typing-extensions, tqdm, dill, promise, future, dataclasses, attrs, tensorflow-datasets\u001b[0m\n",
      "\u001b[34mSuccessfully installed attrs-20.3.0 dataclasses-0.7 dill-0.3.3 future-0.18.2 googleapis-common-protos-1.52.0 importlib-resources-3.3.0 promise-2.3 tensorflow-datasets-4.1.0 tensorflow-metadata-0.25.0 tqdm-4.51.0 typing-extensions-3.7.4.3\u001b[0m\n",
      "\u001b[34mWARNING: You are using pip version 20.0.2; however, version 20.2.4 is available.\u001b[0m\n",
      "\u001b[34mYou should consider upgrading via the '/usr/bin/python3 -m pip install --upgrade pip' command.\u001b[0m\n",
      "\u001b[34m/opt/ml/model s3://edumunozsala-ml-sagemaker/transformer-nmt/tf-transformer-single-gpu-2020-11-12-12-25-30/model\u001b[0m\n",
      "\u001b[34mGet the train data\u001b[0m\n",
      "\u001b[34mTokenize the input and output data and create the vocabularies\u001b[0m\n"
     ]
    },
    {
     "name": "stdout",
     "output_type": "stream",
     "text": [
      "\u001b[34mInput vocab:  11460\u001b[0m\n",
      "\u001b[34mOutput vocab:  9383\u001b[0m\n",
      "\u001b[34mCreating the checkpoint ...\u001b[0m\n",
      "\u001b[34mTraining the model ....\u001b[0m\n",
      "\u001b[34mStarting epoch 1\u001b[0m\n",
      "\u001b[34mEpoch 1 Batch 0 Loss 4.2718 Accuracy 0.0000\u001b[0m\n",
      "\u001b[34mEpoch 1 Batch 100 Loss 4.4878 Accuracy 0.0394\u001b[0m\n",
      "\u001b[34mEpoch 1 Batch 200 Loss 4.4102 Accuracy 0.0553\u001b[0m\n",
      "\u001b[34mEpoch 1 Batch 300 Loss 4.2828 Accuracy 0.0607\u001b[0m\n",
      "\u001b[34mEpoch 1 Batch 400 Loss 4.1153 Accuracy 0.0634\u001b[0m\n",
      "\u001b[34mEpoch 1 Batch 500 Loss 3.9366 Accuracy 0.0683\u001b[0m\n",
      "\u001b[34mEpoch 1 Batch 600 Loss 3.7706 Accuracy 0.0784\u001b[0m\n",
      "\u001b[34mEpoch 1 Batch 700 Loss 3.6183 Accuracy 0.0863\u001b[0m\n",
      "\u001b[34mEpoch 1 Batch 800 Loss 3.4776 Accuracy 0.0956\u001b[0m\n",
      "\u001b[34mEpoch 1 Batch 900 Loss 3.3528 Accuracy 0.1038\u001b[0m\n",
      "\u001b[34mSaving checkpoint for epoch 1 in /opt/ml/checkpoints/ckpt-1\u001b[0m\n",
      "\u001b[34mStarting epoch 2\u001b[0m\n",
      "\u001b[34mEpoch 2 Batch 0 Loss 2.1816 Accuracy 0.1741\u001b[0m\n",
      "\u001b[34mEpoch 2 Batch 100 Loss 2.2265 Accuracy 0.1770\u001b[0m\n",
      "\u001b[34mEpoch 2 Batch 200 Loss 2.2128 Accuracy 0.1801\u001b[0m\n",
      "\u001b[34mEpoch 2 Batch 300 Loss 2.1806 Accuracy 0.1838\u001b[0m\n",
      "\u001b[34mEpoch 2 Batch 400 Loss 2.1546 Accuracy 0.1871\u001b[0m\n",
      "\u001b[34mEpoch 2 Batch 500 Loss 2.1287 Accuracy 0.1900\u001b[0m\n",
      "\u001b[34mEpoch 2 Batch 600 Loss 2.1031 Accuracy 0.1930\u001b[0m\n",
      "\u001b[34mEpoch 2 Batch 700 Loss 2.0789 Accuracy 0.1955\u001b[0m\n",
      "\u001b[34mEpoch 2 Batch 800 Loss 2.0580 Accuracy 0.1981\u001b[0m\n",
      "\u001b[34mEpoch 2 Batch 900 Loss 2.0352 Accuracy 0.2006\u001b[0m\n",
      "\u001b[34mSaving checkpoint for epoch 2 in /opt/ml/checkpoints/ckpt-2\u001b[0m\n",
      "\u001b[34mStarting epoch 3\u001b[0m\n",
      "\u001b[34mEpoch 3 Batch 0 Loss 1.7447 Accuracy 0.2243\u001b[0m\n",
      "\u001b[34mEpoch 3 Batch 100 Loss 1.7695 Accuracy 0.2276\u001b[0m\n",
      "\u001b[34mEpoch 3 Batch 200 Loss 1.7488 Accuracy 0.2286\u001b[0m\n",
      "\u001b[34mEpoch 3 Batch 300 Loss 1.7416 Accuracy 0.2300\u001b[0m\n",
      "\u001b[34mEpoch 3 Batch 400 Loss 1.7318 Accuracy 0.2310\u001b[0m\n",
      "\u001b[34mEpoch 3 Batch 500 Loss 1.7194 Accuracy 0.2320\u001b[0m\n",
      "\u001b[34mEpoch 3 Batch 600 Loss 1.7094 Accuracy 0.2330\u001b[0m\n",
      "\u001b[34mEpoch 3 Batch 700 Loss 1.6998 Accuracy 0.2340\u001b[0m\n",
      "\u001b[34mEpoch 3 Batch 800 Loss 1.6888 Accuracy 0.2351\u001b[0m\n",
      "\u001b[34mEpoch 3 Batch 900 Loss 1.6789 Accuracy 0.2361\u001b[0m\n",
      "\u001b[34mSaving checkpoint for epoch 3 in /opt/ml/checkpoints/ckpt-3\u001b[0m\n",
      "\u001b[34mStarting epoch 4\u001b[0m\n",
      "\u001b[34mEpoch 4 Batch 0 Loss 1.5789 Accuracy 0.2511\u001b[0m\n",
      "\u001b[34mEpoch 4 Batch 100 Loss 1.5092 Accuracy 0.2525\u001b[0m\n",
      "\u001b[34mEpoch 4 Batch 200 Loss 1.5019 Accuracy 0.2533\u001b[0m\n",
      "\u001b[34mEpoch 4 Batch 300 Loss 1.4967 Accuracy 0.2539\u001b[0m\n",
      "\u001b[34mEpoch 4 Batch 400 Loss 1.4913 Accuracy 0.2550\u001b[0m\n",
      "\u001b[34mEpoch 4 Batch 500 Loss 1.4852 Accuracy 0.2563\u001b[0m\n",
      "\u001b[34mEpoch 4 Batch 600 Loss 1.4726 Accuracy 0.2577\u001b[0m\n",
      "\u001b[34mEpoch 4 Batch 700 Loss 1.4652 Accuracy 0.2592\u001b[0m\n",
      "\u001b[34mEpoch 4 Batch 800 Loss 1.4583 Accuracy 0.2604\u001b[0m\n",
      "\u001b[34mEpoch 4 Batch 900 Loss 1.4501 Accuracy 0.2620\u001b[0m\n",
      "\u001b[34mSaving checkpoint for epoch 4 in /opt/ml/checkpoints/ckpt-4\u001b[0m\n",
      "\u001b[34mStarting epoch 5\u001b[0m\n",
      "\u001b[34mEpoch 5 Batch 0 Loss 1.3142 Accuracy 0.2902\u001b[0m\n",
      "\u001b[34mEpoch 5 Batch 100 Loss 1.2605 Accuracy 0.2823\u001b[0m\n",
      "\u001b[34mEpoch 5 Batch 200 Loss 1.2688 Accuracy 0.2834\u001b[0m\n",
      "\u001b[34mEpoch 5 Batch 300 Loss 1.2683 Accuracy 0.2847\u001b[0m\n",
      "\u001b[34mEpoch 5 Batch 400 Loss 1.2640 Accuracy 0.2859\u001b[0m\n",
      "\u001b[34mEpoch 5 Batch 500 Loss 1.2610 Accuracy 0.2869\u001b[0m\n",
      "\u001b[34mEpoch 5 Batch 600 Loss 1.2564 Accuracy 0.2884\u001b[0m\n",
      "\u001b[34mEpoch 5 Batch 700 Loss 1.2507 Accuracy 0.2897\u001b[0m\n",
      "\u001b[34mEpoch 5 Batch 800 Loss 1.2449 Accuracy 0.2912\u001b[0m\n",
      "\u001b[34mEpoch 5 Batch 900 Loss 1.2371 Accuracy 0.2925\u001b[0m\n",
      "\u001b[34mSaving checkpoint for epoch 5 in /opt/ml/checkpoints/ckpt-5\u001b[0m\n",
      "\u001b[34mStarting epoch 6\u001b[0m\n",
      "\u001b[34mEpoch 6 Batch 0 Loss 0.9893 Accuracy 0.3114\u001b[0m\n",
      "\u001b[34mEpoch 6 Batch 100 Loss 1.0413 Accuracy 0.3140\u001b[0m\n",
      "\u001b[34mEpoch 6 Batch 200 Loss 1.0532 Accuracy 0.3141\u001b[0m\n",
      "\u001b[34mEpoch 6 Batch 300 Loss 1.0536 Accuracy 0.3152\u001b[0m\n",
      "\u001b[34mEpoch 6 Batch 400 Loss 1.0589 Accuracy 0.3157\u001b[0m\n",
      "\u001b[34mEpoch 6 Batch 500 Loss 1.0589 Accuracy 0.3163\u001b[0m\n",
      "\u001b[34mEpoch 6 Batch 600 Loss 1.0593 Accuracy 0.3168\u001b[0m\n",
      "\u001b[34mEpoch 6 Batch 700 Loss 1.0561 Accuracy 0.3173\u001b[0m\n",
      "\u001b[34mEpoch 6 Batch 800 Loss 1.0541 Accuracy 0.3180\u001b[0m\n",
      "\u001b[34mEpoch 6 Batch 900 Loss 1.0528 Accuracy 0.3186\u001b[0m\n",
      "\u001b[34mSaving checkpoint for epoch 6 in /opt/ml/checkpoints/ckpt-6\u001b[0m\n",
      "\u001b[34mStarting epoch 7\u001b[0m\n",
      "\u001b[34mEpoch 7 Batch 0 Loss 1.0120 Accuracy 0.3504\u001b[0m\n",
      "\u001b[34mEpoch 7 Batch 100 Loss 0.9046 Accuracy 0.3345\u001b[0m\n",
      "\u001b[34mEpoch 7 Batch 200 Loss 0.9157 Accuracy 0.3350\u001b[0m\n",
      "\u001b[34mEpoch 7 Batch 300 Loss 0.9213 Accuracy 0.3342\u001b[0m\n",
      "\u001b[34mEpoch 7 Batch 400 Loss 0.9231 Accuracy 0.3343\u001b[0m\n",
      "\u001b[34mEpoch 7 Batch 500 Loss 0.9272 Accuracy 0.3341\u001b[0m\n",
      "\u001b[34mEpoch 7 Batch 600 Loss 0.9302 Accuracy 0.3342\u001b[0m\n",
      "\u001b[34mEpoch 7 Batch 700 Loss 0.9300 Accuracy 0.3343\u001b[0m\n",
      "\u001b[34mEpoch 7 Batch 800 Loss 0.9303 Accuracy 0.3346\u001b[0m\n",
      "\u001b[34mEpoch 7 Batch 900 Loss 0.9315 Accuracy 0.3348\u001b[0m\n",
      "\u001b[34mSaving checkpoint for epoch 7 in /opt/ml/checkpoints/ckpt-7\u001b[0m\n",
      "\u001b[34mStarting epoch 8\u001b[0m\n",
      "\u001b[34mEpoch 8 Batch 0 Loss 0.8039 Accuracy 0.3315\u001b[0m\n",
      "\u001b[34mEpoch 8 Batch 100 Loss 0.8109 Accuracy 0.3457\u001b[0m\n",
      "\u001b[34mEpoch 8 Batch 200 Loss 0.8154 Accuracy 0.3461\u001b[0m\n",
      "\u001b[34mEpoch 8 Batch 300 Loss 0.8282 Accuracy 0.3454\u001b[0m\n",
      "\u001b[34mEpoch 8 Batch 400 Loss 0.8360 Accuracy 0.3459\u001b[0m\n",
      "\u001b[34mEpoch 8 Batch 500 Loss 0.8395 Accuracy 0.3456\u001b[0m\n",
      "\u001b[34mEpoch 8 Batch 600 Loss 0.8426 Accuracy 0.3453\u001b[0m\n",
      "\u001b[34mEpoch 8 Batch 700 Loss 0.8456 Accuracy 0.3451\u001b[0m\n",
      "\u001b[34mEpoch 8 Batch 800 Loss 0.8459 Accuracy 0.3451\u001b[0m\n",
      "\u001b[34mEpoch 8 Batch 900 Loss 0.8486 Accuracy 0.3448\u001b[0m\n",
      "\u001b[34mSaving checkpoint for epoch 8 in /opt/ml/checkpoints/ckpt-8\u001b[0m\n",
      "\u001b[34mSaving the model ....\u001b[0m\n",
      "\u001b[34mSaving the model parameters\u001b[0m\n",
      "\u001b[34mSaving the dictionaries ....\u001b[0m\n",
      "\u001b[34m2020-11-12 13:15:31,672 sagemaker_tensorflow_container.training WARNING  Your model will NOT be servable with SageMaker TensorFlow Serving container. The model artifact was not saved in the TensorFlow SavedModel directory structure:\u001b[0m\n",
      "\u001b[34mhttps://www.tensorflow.org/guide/saved_model#structure_of_a_savedmodel_directory\u001b[0m\n",
      "\u001b[34m2020-11-12 13:15:31,672 sagemaker-containers INFO     Reporting training SUCCESS\u001b[0m\n",
      "\n",
      "2020-11-12 13:15:47 Uploading - Uploading generated training model\n",
      "2020-11-12 13:15:55 Completed - Training job completed\n",
      "Training seconds: 2867\n",
      "Billable seconds: 2867\n"
     ]
    }
   ],
   "source": [
    "# Call the fit method to launch the training job\n",
    "estimator.fit({'training':training_data_uri}, job_name = job_name, \n",
    "              experiment_config = experiment_config)"
   ]
  },
  {
   "cell_type": "markdown",
   "metadata": {},
   "source": [
    "Save the experiment, then you can view it and its trials from SageMaker Studio"
   ]
  },
  {
   "cell_type": "code",
   "execution_count": 31,
   "metadata": {},
   "outputs": [
    {
     "data": {
      "text/plain": [
       "Experiment(sagemaker_boto_client=<botocore.client.SageMaker object at 0x7f3f90c75d68>,experiment_name='tf-transformer',experiment_arn='arn:aws:sagemaker:us-east-1:223817798831:experiment/tf-transformer',display_name='tf-transformer',description='Experiment to track trainings on my tensorflow Transformer Eng-Spa',creation_time=datetime.datetime(2020, 11, 8, 17, 0, 49, 116000, tzinfo=tzlocal()),created_by={},last_modified_time=datetime.datetime(2020, 11, 12, 11, 50, 27, 732000, tzinfo=tzlocal()),last_modified_by={},response_metadata={'RequestId': '862d03a0-abf6-4215-a759-2ddcc4f622fd', 'HTTPStatusCode': 200, 'HTTPHeaders': {'x-amzn-requestid': '862d03a0-abf6-4215-a759-2ddcc4f622fd', 'content-type': 'application/x-amz-json-1.1', 'content-length': '86', 'date': 'Thu, 12 Nov 2020 13:17:51 GMT'}, 'RetryAttempts': 0})"
      ]
     },
     "execution_count": 31,
     "metadata": {},
     "output_type": "execute_result"
    }
   ],
   "source": [
    "# Save the trial\n",
    "single_gpu_trial.save()\n",
    "# Save the experiment\n",
    "training_experiment.save()"
   ]
  },
  {
   "cell_type": "markdown",
   "metadata": {},
   "source": [
    "## Show metrics from SageMaker Console"
   ]
  },
  {
   "cell_type": "markdown",
   "metadata": {},
   "source": [
    "You can monitor the metrics that a training job emits in real time in the **CloudWatch console**:\n",
    "- Open the CloudWatch console at https://console.aws.amazon.com/cloudwatch/.\n",
    "- Choose Metrics, then choose /aws/sagemaker/TrainingJobs.\n",
    "- Choose TrainingJobName.\n",
    "- On the All metrics tab, choose the names of the training metrics that you want to monitor."
   ]
  },
  {
   "cell_type": "markdown",
   "metadata": {},
   "source": [
    "\n",
    "Another option is to monitor the metrics by using the **SageMaker console**.\n",
    "- Open the SageMaker console at https://console.aws.amazon.com/sagemaker/.\n",
    "- Choose Training jobs, then choose the training job whose metrics you want to see.\n",
    "- Choose TrainingJobName.\n",
    "- In the Monitor section, you can review the graphs of instance utilization and algorithm metrics\n",
    "\n",
    "It is a simple way to check how your model is \"learning\" during the training stage.\n"
   ]
  },
  {
   "cell_type": "markdown",
   "metadata": {},
   "source": [
    "# Restore a training job and download the trained model\n",
    "\n",
    "At this point, we have a trained model stored in S3. But we are interested in making some predictions with it.\n",
    "\n",
    "After you train your model, you can deploy it using Amazon SageMaker to get predictions in any of the following ways:\n",
    "- To set up a persistent endpoint to get one prediction at a time, use SageMaker hosting services.\n",
    "- To get predictions for an entire dataset, use SageMaker batch transform.\n",
    "\n",
    "But in this notebook we do not cover this feature because sometimes we are more interested in reloading our model in a new notebook to apply an evaluation method or study its parameters or gradients. So, here we are going to download the model artifacts from S3 and load them to an \"empty\" model instance. "
   ]
  },
  {
   "cell_type": "markdown",
   "metadata": {},
   "source": [
    "## Attach a previous training job"
   ]
  },
  {
   "cell_type": "markdown",
   "metadata": {},
   "source": [
    "If we have just trained a model using our estimator variable in this notebook execution, we can skip this step. But probably you trained your model for hours and now you need to restore your estimator variable from a previous training job. Check for the training job you want to restore the model in SageMaker console, copy the name and paste it in the next section of code. And then you call the `attach` method of the estimator object and now you can continue to work with our training job."
   ]
  },
  {
   "cell_type": "markdown",
   "metadata": {},
   "source": [
    "We can skip the next cell if the previous estimator.fit command was executed"
   ]
  },
  {
   "cell_type": "code",
   "execution_count": 2,
   "metadata": {},
   "outputs": [
    {
     "name": "stdout",
     "output_type": "stream",
     "text": [
      "\n",
      "2020-11-12 19:13:13 Starting - Preparing the instances for training\n",
      "2020-11-12 19:13:13 Downloading - Downloading input data\n",
      "2020-11-12 19:13:13 Training - Training image download completed. Training in progress.\n",
      "2020-11-12 19:13:13 Uploading - Uploading generated training model\n",
      "2020-11-12 19:13:13 Completed - Training job completed\n"
     ]
    }
   ],
   "source": [
    "from sagemaker.tensorflow import TensorFlow\n",
    "\n",
    "# Set the training job you want to attach to the estimator object\n",
    "# Use this option if the training job was not trained in this execution\n",
    "my_training_job_name = 'tf-transformer-single-gpu-2020-11-12-18-36-15'\n",
    "\n",
    "# In case, when the training job have been trained in this execution, we can retrive the data from the job_name variable\n",
    "#my_training_job_name = job_name\n",
    "# Attach the estimator to the selected training job\n",
    "estimator = TensorFlow.attach(my_training_job_name)"
   ]
  },
  {
   "cell_type": "code",
   "execution_count": 11,
   "metadata": {},
   "outputs": [
    {
     "name": "stdout",
     "output_type": "stream",
     "text": [
      "Job name where the model will be restored:  tf-transformer-single-gpu-2020-11-12-18-36-15\n"
     ]
    }
   ],
   "source": [
    "# Set the job_name\n",
    "job_name = estimator.latest_training_job.job_name\n",
    "print('Job name where the model will be restored: ',estimator.latest_training_job.job_name)"
   ]
  },
  {
   "cell_type": "code",
   "execution_count": 12,
   "metadata": {},
   "outputs": [
    {
     "name": "stdout",
     "output_type": "stream",
     "text": [
      "Dir of model data:  s3://edumunozsala-ml-sagemaker/transformer-nmt/tf-transformer-single-gpu-2020-11-12-18-36-15/output/model.tar.gz\n",
      "Dir of output data:  s3://edumunozsala-ml-sagemaker/transformer-nmt\n",
      "Buck name:  edumunozsala-ml-sagemaker\n"
     ]
    }
   ],
   "source": [
    "print('Dir of model data: ',estimator.model_data)\n",
    "print('Dir of output data: ',output_data_uri)\n",
    "print('Buck name: ',bucket_name)"
   ]
  },
  {
   "cell_type": "markdown",
   "metadata": {},
   "source": [
    "## Download the trained model\n",
    "\n",
    "The estimator object variable `model_data` points to the `model.tar.gz` file which contains the saved model. And the other output files from our model that we need to rebuild and tokenize or detokenize the sentences can be found in the S3 folder `output_path/output/output.tar.gz`. We can download both files and unzip them."
   ]
  },
  {
   "cell_type": "code",
   "execution_count": 18,
   "metadata": {},
   "outputs": [
    {
     "name": "stdout",
     "output_type": "stream",
     "text": [
      "Dir to download traned model:  transformer-nmt/tf-transformer-single-gpu-2020-11-12-18-36-15/output/model.tar.gz\n",
      "Dir to download model outputs:  transformer-nmt/tf-transformer-single-gpu-2020-11-12-18-36-15/output/output.tar.gz\n"
     ]
    }
   ],
   "source": [
    "# Set the model and the output path in S3 to download the data \n",
    "init_model_path = len('s3://')+len(bucket_name)+1\n",
    "s3_model_path=estimator.model_data[init_model_path:]\n",
    "s3_output_data=output_data_uri[init_model_path:]+'/{}/output/output.tar.gz'.format(job_name)\n",
    "print('Dir to download traned model: ', s3_model_path)\n",
    "print('Dir to download model outputs: ', s3_output_data)"
   ]
  },
  {
   "cell_type": "code",
   "execution_count": 19,
   "metadata": {},
   "outputs": [],
   "source": [
    "sagemaker_session.download_data(trainedmodel_path,bucket_name,s3_model_path)"
   ]
  },
  {
   "cell_type": "code",
   "execution_count": 20,
   "metadata": {},
   "outputs": [],
   "source": [
    "sagemaker_session.download_data(output_data_path,bucket_name,s3_output_data)"
   ]
  },
  {
   "cell_type": "markdown",
   "metadata": {},
   "source": [
    "Next, extract the information out from the model.tar.gz file return by the training job in SageMaker:"
   ]
  },
  {
   "cell_type": "code",
   "execution_count": 21,
   "metadata": {},
   "outputs": [
    {
     "name": "stdout",
     "output_type": "stream",
     "text": [
      "transformer.data-00000-of-00002\n",
      "transformer.index\n",
      "transformer.data-00001-of-00002\n",
      "checkpoint\n"
     ]
    }
   ],
   "source": [
    "!tar -zxvf $trainedmodel_path/model.tar.gz"
   ]
  },
  {
   "cell_type": "markdown",
   "metadata": {},
   "source": [
    "Extract the files from output.tar.gz without recreating the directory structure, all files will be extracted to the working directory"
   ]
  },
  {
   "cell_type": "code",
   "execution_count": 28,
   "metadata": {},
   "outputs": [
    {
     "name": "stdout",
     "output_type": "stream",
     "text": [
      "out_vocab.pkl\r\n",
      "model_info.pth\r\n",
      "in_vocab.pkl\r\n"
     ]
    }
   ],
   "source": [
    "!tar -xvzf $output_data_path/output.tar.gz #--strip-components=1"
   ]
  },
  {
   "cell_type": "markdown",
   "metadata": {},
   "source": [
    "### Import the tensorflow model and load the model\n",
    "\n",
    "We import the `model.py` file with our model definition but we only have the weights of the model, so we need to rebuild it. The model parameters where saved during training in the `model_info.pth`, we just need to read that file and use the parameters to initiate an empty instance of the model. And then we can load the weights, `load_weights()` into that instance.\n"
   ]
  },
  {
   "cell_type": "code",
   "execution_count": 29,
   "metadata": {},
   "outputs": [
    {
     "name": "stdout",
     "output_type": "stream",
     "text": [
      "Model parameters {'vocab_size_enc': 11460, 'vocab_size_dec': 9383, 'sos_token_input': [11458], 'eos_token_input': [11459], 'sos_token_output': [9381], 'eos_token_output': [9382], 'n_layers': 4, 'd_model': 64, 'ffn_dim': 128, 'n_heads': 8, 'drop_rate': 0.1}\n"
     ]
    },
    {
     "data": {
      "text/plain": [
       "<tensorflow.python.training.tracking.util.CheckpointLoadStatus at 0x7f00f7b045f8>"
      ]
     },
     "execution_count": 29,
     "metadata": {},
     "output_type": "execute_result"
    }
   ],
   "source": [
    "from train.model import Transformer\n",
    "\n",
    "# Read the parameters from a dictionary\n",
    "with open(model_info_file, 'rb') as f:\n",
    "    model_info = pickle.load(f)\n",
    "print('Model parameters',model_info)\n",
    "\n",
    "#Create an instance of the Transforer model and load the saved model to th\n",
    "transformer = Transformer(vocab_size_enc=model_info['vocab_size_enc'],\n",
    "                          vocab_size_dec=model_info['vocab_size_dec'],\n",
    "                          d_model=model_info['d_model'],\n",
    "                          n_layers=model_info['n_layers'],\n",
    "                          FFN_units=model_info['ffn_dim'],\n",
    "                          n_heads=model_info['n_heads'],\n",
    "                          dropout_rate=model_info['drop_rate'])\n",
    "\n",
    "#Load the saved model\n",
    "# To do: Use variable to store the model name and pass it in as a hyperparameter of the estimator\n",
    "transformer.load_weights('transformer')"
   ]
  },
  {
   "cell_type": "markdown",
   "metadata": {},
   "source": [
    "## Make some predictions\n",
    "\n",
    "And now everything is ready to make prediction with our trained model:\n",
    "- Import the `predict.py` file with the functions to make a prediction and to translate a sentence. The code was described in the original post.\n",
    "- Read the files and load the tokenizer for the input and output sentences\n",
    "- Call to `traslate` function with the model, the tokenizers, the `sos`and `eos` tokens, the sentence to translate and the max length of the output. It returns the predicted sentence detokenize, a plain text, with the translation. "
   ]
  },
  {
   "cell_type": "code",
   "execution_count": 30,
   "metadata": {},
   "outputs": [
    {
     "name": "stdout",
     "output_type": "stream",
     "text": [
      "Collecting tensorflow-datasets\n",
      "  Downloading tensorflow_datasets-4.1.0-py3-none-any.whl (3.6 MB)\n",
      "\u001b[K     |████████████████████████████████| 3.6 MB 13.8 MB/s eta 0:00:01\n",
      "\u001b[?25hRequirement already satisfied: tqdm in /home/ec2-user/anaconda3/envs/tensorflow2_p36/lib/python3.6/site-packages (from tensorflow-datasets) (4.42.1)\n",
      "Collecting dataclasses; python_version < \"3.7\"\n",
      "  Downloading dataclasses-0.8-py3-none-any.whl (19 kB)\n",
      "Collecting importlib-resources; python_version < \"3.9\"\n",
      "  Downloading importlib_resources-3.3.0-py2.py3-none-any.whl (26 kB)\n",
      "Requirement already satisfied: attrs>=18.1.0 in /home/ec2-user/anaconda3/envs/tensorflow2_p36/lib/python3.6/site-packages (from tensorflow-datasets) (19.3.0)\n",
      "Requirement already satisfied: protobuf>=3.6.1 in /home/ec2-user/anaconda3/envs/tensorflow2_p36/lib/python3.6/site-packages (from tensorflow-datasets) (3.8.0)\n",
      "Collecting tensorflow-metadata\n",
      "  Downloading tensorflow_metadata-0.25.0-py3-none-any.whl (44 kB)\n",
      "\u001b[K     |████████████████████████████████| 44 kB 5.6 MB/s  eta 0:00:01\n",
      "\u001b[?25hRequirement already satisfied: termcolor in /home/ec2-user/anaconda3/envs/tensorflow2_p36/lib/python3.6/site-packages (from tensorflow-datasets) (1.1.0)\n",
      "Requirement already satisfied: absl-py in /home/ec2-user/anaconda3/envs/tensorflow2_p36/lib/python3.6/site-packages (from tensorflow-datasets) (0.11.0)\n",
      "Collecting promise\n",
      "  Downloading promise-2.3.tar.gz (19 kB)\n",
      "Collecting dill\n",
      "  Downloading dill-0.3.3-py2.py3-none-any.whl (81 kB)\n",
      "\u001b[K     |████████████████████████████████| 81 kB 17.5 MB/s eta 0:00:01\n",
      "\u001b[?25hRequirement already satisfied: future in /home/ec2-user/anaconda3/envs/tensorflow2_p36/lib/python3.6/site-packages (from tensorflow-datasets) (0.18.2)\n",
      "Requirement already satisfied: numpy in /home/ec2-user/anaconda3/envs/tensorflow2_p36/lib/python3.6/site-packages (from tensorflow-datasets) (1.18.1)\n",
      "Requirement already satisfied: requests>=2.19.0 in /home/ec2-user/anaconda3/envs/tensorflow2_p36/lib/python3.6/site-packages (from tensorflow-datasets) (2.22.0)\n",
      "Requirement already satisfied: six in /home/ec2-user/anaconda3/envs/tensorflow2_p36/lib/python3.6/site-packages (from tensorflow-datasets) (1.14.0)\n",
      "Collecting typing-extensions; python_version < \"3.8\"\n",
      "  Downloading typing_extensions-3.7.4.3-py3-none-any.whl (22 kB)\n",
      "Requirement already satisfied: zipp>=0.4; python_version < \"3.8\" in /home/ec2-user/anaconda3/envs/tensorflow2_p36/lib/python3.6/site-packages (from importlib-resources; python_version < \"3.9\"->tensorflow-datasets) (2.2.0)\n",
      "Requirement already satisfied: setuptools in /home/ec2-user/anaconda3/envs/tensorflow2_p36/lib/python3.6/site-packages (from protobuf>=3.6.1->tensorflow-datasets) (45.2.0.post20200210)\n",
      "Collecting googleapis-common-protos<2,>=1.52.0\n",
      "  Downloading googleapis_common_protos-1.52.0-py2.py3-none-any.whl (100 kB)\n",
      "\u001b[K     |████████████████████████████████| 100 kB 18.2 MB/s ta 0:00:01\n",
      "\u001b[?25hRequirement already satisfied: urllib3!=1.25.0,!=1.25.1,<1.26,>=1.21.1 in /home/ec2-user/anaconda3/envs/tensorflow2_p36/lib/python3.6/site-packages (from requests>=2.19.0->tensorflow-datasets) (1.25.10)\n",
      "Requirement already satisfied: idna<2.9,>=2.5 in /home/ec2-user/anaconda3/envs/tensorflow2_p36/lib/python3.6/site-packages (from requests>=2.19.0->tensorflow-datasets) (2.8)\n",
      "Requirement already satisfied: chardet<3.1.0,>=3.0.2 in /home/ec2-user/anaconda3/envs/tensorflow2_p36/lib/python3.6/site-packages (from requests>=2.19.0->tensorflow-datasets) (3.0.4)\n",
      "Requirement already satisfied: certifi>=2017.4.17 in /home/ec2-user/anaconda3/envs/tensorflow2_p36/lib/python3.6/site-packages (from requests>=2.19.0->tensorflow-datasets) (2020.6.20)\n",
      "Building wheels for collected packages: promise\n",
      "  Building wheel for promise (setup.py) ... \u001b[?25ldone\n",
      "\u001b[?25h  Created wheel for promise: filename=promise-2.3-py3-none-any.whl size=21495 sha256=1eeea3a689d00d6a15f97c89d4bd92ce7c63d62bbca77357f5aa7be67b44d3af\n",
      "  Stored in directory: /home/ec2-user/.cache/pip/wheels/59/9a/1d/3f1afbbb5122d0410547bf9eb50955f4a7a98e53a6d8b99bd1\n",
      "Successfully built promise\n",
      "\u001b[31mERROR: tensorflow-metadata 0.25.0 has requirement absl-py<0.11,>=0.9, but you'll have absl-py 0.11.0 which is incompatible.\u001b[0m\n",
      "Installing collected packages: dataclasses, importlib-resources, googleapis-common-protos, tensorflow-metadata, promise, dill, typing-extensions, tensorflow-datasets\n",
      "Successfully installed dataclasses-0.8 dill-0.3.3 googleapis-common-protos-1.52.0 importlib-resources-3.3.0 promise-2.3 tensorflow-datasets-4.1.0 tensorflow-metadata-0.25.0 typing-extensions-3.7.4.3\n",
      "\u001b[33mWARNING: You are using pip version 20.0.2; however, version 20.2.4 is available.\n",
      "You should consider upgrading via the '/home/ec2-user/anaconda3/envs/tensorflow2_p36/bin/python -m pip install --upgrade pip' command.\u001b[0m\n"
     ]
    }
   ],
   "source": [
    "# Install the library necessary to tokenize the sentences\n",
    "!pip install tensorflow-datasets"
   ]
  },
  {
   "cell_type": "code",
   "execution_count": 31,
   "metadata": {},
   "outputs": [],
   "source": [
    "from serve.predict import translate\n",
    "import tensorflow_datasets as tfds"
   ]
  },
  {
   "cell_type": "markdown",
   "metadata": {},
   "source": [
    "Load the input and output tokenizer or vocabularis used in the training. We need them to encode and decode the sentences"
   ]
  },
  {
   "cell_type": "code",
   "execution_count": 32,
   "metadata": {},
   "outputs": [],
   "source": [
    "# Read the parameters from a dictionary\n",
    "#model_info_path = os.path.join(model_dir, 'model_info.pth')\n",
    "with open(input_vocab_file, 'rb') as f:\n",
    "    tokenizer_inputs = pickle.load(f)\n",
    "\n",
    "with open(output_vocab_file, 'rb') as f:\n",
    "    tokenizer_outputs = pickle.load(f)\n"
   ]
  },
  {
   "cell_type": "code",
   "execution_count": 33,
   "metadata": {},
   "outputs": [
    {
     "name": "stdout",
     "output_type": "stream",
     "text": [
      "Input sentence: you should pay for it.\n",
      "Output sentence: Deberías pagar por ello.\n"
     ]
    }
   ],
   "source": [
    "#Show some translations\n",
    "sentence = \"you should pay for it.\"\n",
    "print(\"Input sentence: {}\".format(sentence))\n",
    "predicted_sentence = translate(transformer,sentence,tokenizer_inputs, tokenizer_outputs,15,model_info['sos_token_input'],\n",
    "                               model_info['eos_token_input'],model_info['sos_token_output'],\n",
    "                               model_info['eos_token_output'])\n",
    "print(\"Output sentence: {}\".format(predicted_sentence))"
   ]
  },
  {
   "cell_type": "code",
   "execution_count": 34,
   "metadata": {},
   "outputs": [
    {
     "name": "stdout",
     "output_type": "stream",
     "text": [
      "Input sentence: This is a really powerful method!\n",
      "Output sentence: ¡Esto es un montón de las carreras de las ocho!\n"
     ]
    }
   ],
   "source": [
    "#Show some translations\n",
    "sentence = \"This is a really powerful method!\"\n",
    "print(\"Input sentence: {}\".format(sentence))\n",
    "predicted_sentence = translate(transformer,sentence,tokenizer_inputs, tokenizer_outputs,15,model_info['sos_token_input'],\n",
    "                               model_info['eos_token_input'],model_info['sos_token_output'],\n",
    "                               model_info['eos_token_output'])\n",
    "print(\"Output sentence: {}\".format(predicted_sentence))"
   ]
  },
  {
   "cell_type": "markdown",
   "metadata": {},
   "source": [
    "# Resume training from a checkpoint\n",
    "\n",
    "Sometimes we need to stop our training, and maybe do some research in the performance or reallocate more resources to continue with the project. But when it is done, we need to resume the training, restoring the model and the optimizer states and continue for some more epochs to achieve a final trained model with a better performance.\n",
    "\n",
    "To help with that scenario, the `checkpoint_local_path`and `checkpoint_s3_uri` estimator parameters are much relevant. The first one is the local path, inside the container, that the algorithm writes its checkpoints to. SageMaker will persist all files under this path to `checkpoint_s3_uri` continually during training. On job startup the reverse happens - data from the s3 location is downloaded to this path before the algorithm is started. If the path is unset then SageMaker assumes the checkpoints will be provided under `/opt/ml/checkpoints/`. Using this feature we can resume training from the last checkpoint (or a previous one). \n",
    "\n",
    "For this purpose, we set the model parameter `resume = True` and `fit` the estimator to execute another training. "
   ]
  },
  {
   "cell_type": "markdown",
   "metadata": {},
   "source": [
    "Load the experiment and trial created in a previous run or create a new one:"
   ]
  },
  {
   "cell_type": "code",
   "execution_count": 73,
   "metadata": {},
   "outputs": [],
   "source": [
    "# Set the experiment name\n",
    "experiment_name='tf-transformer'\n",
    "# Set the trial name \n",
    "trial_name=\"{}-{}\".format(experiment_name,'single-gpu')\n",
    "trial_comp_name = 'single-gpu-training-job'\n",
    "\n",
    "tags = [{'Key': 'my-experiments', 'Value': 'transformerEngSpa1'}]"
   ]
  },
  {
   "cell_type": "code",
   "execution_count": 74,
   "metadata": {},
   "outputs": [
    {
     "name": "stdout",
     "output_type": "stream",
     "text": [
      "Load the experiment\n",
      "Load the trial\n"
     ]
    }
   ],
   "source": [
    "# create the experiment if it doesn't exist\n",
    "try:\n",
    "    experiment = Experiment.load(experiment_name=experiment_name)\n",
    "    print('Load the experiment')\n",
    "except Exception as ex:\n",
    "    if \"ResourceNotFound\" in str(ex):\n",
    "        experiment = Experiment.create(experiment_name=experiment_name)\n",
    "        print('Create the experiment')\n",
    "\n",
    "\n",
    "# create the trial if it doesn't exist\n",
    "try:\n",
    "    trial = Trial.load(trial_name=trial_name)\n",
    "    print('Load the trial')\n",
    "except Exception as ex:\n",
    "    if \"ResourceNotFound\" in str(ex):\n",
    "        trial = Trial.create(experiment_name=experiment_name, trial_name=trial_name)\n",
    "        print('Create the trial')"
   ]
  },
  {
   "cell_type": "code",
   "execution_count": 75,
   "metadata": {},
   "outputs": [],
   "source": [
    "# Set the configuration parameters for the experiment\n",
    "experiment_config = {'ExperimentName': experiment.experiment_name, \n",
    "                       'TrialName': trial.trial_name,\n",
    "                       'TrialComponentDisplayName': trial_comp_name}"
   ]
  },
  {
   "cell_type": "markdown",
   "metadata": {},
   "source": [
    "Create an Estimator for a TensorFlow 2.1 model and set the parameter `--resume` to True to force the model to restore the latest checkpoint and resume training for the number of epochs selected"
   ]
  },
  {
   "cell_type": "code",
   "execution_count": 17,
   "metadata": {},
   "outputs": [],
   "source": [
    "#instance_type='ml.m5.xlarge'\n",
    "#instance_type='ml.m4.4xlarge'\n",
    "instance_type='ml.p2.xlarge'\n",
    "#instance_type='local'\n",
    "\n",
    "# Define the metrics to search for\n",
    "metric_definitions = [{'Name': 'loss', 'Regex': 'Loss ([0-9\\\\.]+)'},{'Name': 'Accuracy', 'Regex': 'Accuracy ([0-9\\\\.]+)'}]"
   ]
  },
  {
   "cell_type": "code",
   "execution_count": 18,
   "metadata": {},
   "outputs": [],
   "source": [
    "# Create an estimator with the hyperparameter resume = True\n",
    "estimator = TensorFlow(entry_point='train.py',\n",
    "                       source_dir='train',\n",
    "                       role=role,\n",
    "                       instance_count=1,\n",
    "                       instance_type=instance_type,\n",
    "                       framework_version='2.1.0',\n",
    "                       py_version='py3',\n",
    "                       output_path=output_data_uri,\n",
    "                       code_location=output_data_uri,\n",
    "                       base_job_name='tf-transformer',\n",
    "                       script_mode= True,\n",
    "                       checkpoint_s3_uri = ckpt_data_uri,\n",
    "                       metric_definitions = metric_definitions, \n",
    "                       hyperparameters={\n",
    "                        'epochs': 5,\n",
    "                        'nsamples': 60000,\n",
    "                        'resume': True,\n",
    "                        'train_file': 'spa.txt',\n",
    "                        'non_breaking_in': 'nonbreaking_prefix.en',\n",
    "                        'non_breaking_out': 'nonbreaking_prefix.es'\n",
    "                       })"
   ]
  },
  {
   "cell_type": "code",
   "execution_count": 19,
   "metadata": {},
   "outputs": [
    {
     "name": "stdout",
     "output_type": "stream",
     "text": [
      "tf-transformer-single-gpu-2020-11-12-18-36-15\n"
     ]
    }
   ],
   "source": [
    "# Set the job name and show it\n",
    "job_name = '{}-{}'.format(trial_name,time.strftime(\"%Y-%m-%d-%H-%M-%S\", time.gmtime()))\n",
    "print(job_name)"
   ]
  },
  {
   "cell_type": "code",
   "execution_count": 20,
   "metadata": {},
   "outputs": [
    {
     "name": "stderr",
     "output_type": "stream",
     "text": [
      "INFO:sagemaker:Creating training-job with name: tf-transformer-single-gpu-2020-11-12-18-36-15\n"
     ]
    },
    {
     "name": "stdout",
     "output_type": "stream",
     "text": [
      "2020-11-12 18:36:34 Starting - Starting the training job...\n",
      "2020-11-12 18:36:39 Starting - Launching requested ML instances......\n",
      "2020-11-12 18:37:59 Starting - Preparing the instances for training.........\n",
      "2020-11-12 18:39:13 Downloading - Downloading input data......\n",
      "2020-11-12 18:40:24 Training - Downloading the training image......\n",
      "2020-11-12 18:41:37 Training - Training image download completed. Training in progress...\u001b[34m2020-11-12 18:41:43,057 sagemaker-containers INFO     Imported framework sagemaker_tensorflow_container.training\u001b[0m\n",
      "\u001b[34m2020-11-12 18:41:43,563 sagemaker-containers INFO     Invoking user script\n",
      "\u001b[0m\n",
      "\u001b[34mTraining Env:\n",
      "\u001b[0m\n",
      "\u001b[34m{\n",
      "    \"additional_framework_parameters\": {},\n",
      "    \"channel_input_dirs\": {\n",
      "        \"training\": \"/opt/ml/input/data/training\"\n",
      "    },\n",
      "    \"current_host\": \"algo-1\",\n",
      "    \"framework_module\": \"sagemaker_tensorflow_container.training:main\",\n",
      "    \"hosts\": [\n",
      "        \"algo-1\"\n",
      "    ],\n",
      "    \"hyperparameters\": {\n",
      "        \"resume\": true,\n",
      "        \"non_breaking_out\": \"nonbreaking_prefix.es\",\n",
      "        \"nsamples\": 60000,\n",
      "        \"train_file\": \"spa.txt\",\n",
      "        \"model_dir\": \"s3://edumunozsala-ml-sagemaker/transformer-nmt/tf-transformer-single-gpu-2020-11-12-18-36-15/model\",\n",
      "        \"non_breaking_in\": \"nonbreaking_prefix.en\",\n",
      "        \"epochs\": 5\n",
      "    },\n",
      "    \"input_config_dir\": \"/opt/ml/input/config\",\n",
      "    \"input_data_config\": {\n",
      "        \"training\": {\n",
      "            \"TrainingInputMode\": \"File\",\n",
      "            \"S3DistributionType\": \"FullyReplicated\",\n",
      "            \"RecordWrapperType\": \"None\"\n",
      "        }\n",
      "    },\n",
      "    \"input_dir\": \"/opt/ml/input\",\n",
      "    \"is_master\": true,\n",
      "    \"job_name\": \"tf-transformer-single-gpu-2020-11-12-18-36-15\",\n",
      "    \"log_level\": 20,\n",
      "    \"master_hostname\": \"algo-1\",\n",
      "    \"model_dir\": \"/opt/ml/model\",\n",
      "    \"module_dir\": \"s3://edumunozsala-ml-sagemaker/transformer-nmt/tf-transformer-single-gpu-2020-11-12-18-36-15/source/sourcedir.tar.gz\",\n",
      "    \"module_name\": \"train\",\n",
      "    \"network_interface_name\": \"eth0\",\n",
      "    \"num_cpus\": 4,\n",
      "    \"num_gpus\": 1,\n",
      "    \"output_data_dir\": \"/opt/ml/output/data\",\n",
      "    \"output_dir\": \"/opt/ml/output\",\n",
      "    \"output_intermediate_dir\": \"/opt/ml/output/intermediate\",\n",
      "    \"resource_config\": {\n",
      "        \"current_host\": \"algo-1\",\n",
      "        \"hosts\": [\n",
      "            \"algo-1\"\n",
      "        ],\n",
      "        \"network_interface_name\": \"eth0\"\n",
      "    },\n",
      "    \"user_entry_point\": \"train.py\"\u001b[0m\n",
      "\u001b[34m}\n",
      "\u001b[0m\n",
      "\u001b[34mEnvironment variables:\n",
      "\u001b[0m\n",
      "\u001b[34mSM_HOSTS=[\"algo-1\"]\u001b[0m\n",
      "\u001b[34mSM_NETWORK_INTERFACE_NAME=eth0\u001b[0m\n",
      "\u001b[34mSM_HPS={\"epochs\":5,\"model_dir\":\"s3://edumunozsala-ml-sagemaker/transformer-nmt/tf-transformer-single-gpu-2020-11-12-18-36-15/model\",\"non_breaking_in\":\"nonbreaking_prefix.en\",\"non_breaking_out\":\"nonbreaking_prefix.es\",\"nsamples\":60000,\"resume\":true,\"train_file\":\"spa.txt\"}\u001b[0m\n",
      "\u001b[34mSM_USER_ENTRY_POINT=train.py\u001b[0m\n",
      "\u001b[34mSM_FRAMEWORK_PARAMS={}\u001b[0m\n",
      "\u001b[34mSM_RESOURCE_CONFIG={\"current_host\":\"algo-1\",\"hosts\":[\"algo-1\"],\"network_interface_name\":\"eth0\"}\u001b[0m\n",
      "\u001b[34mSM_INPUT_DATA_CONFIG={\"training\":{\"RecordWrapperType\":\"None\",\"S3DistributionType\":\"FullyReplicated\",\"TrainingInputMode\":\"File\"}}\u001b[0m\n",
      "\u001b[34mSM_OUTPUT_DATA_DIR=/opt/ml/output/data\u001b[0m\n",
      "\u001b[34mSM_CHANNELS=[\"training\"]\u001b[0m\n",
      "\u001b[34mSM_CURRENT_HOST=algo-1\u001b[0m\n",
      "\u001b[34mSM_MODULE_NAME=train\u001b[0m\n",
      "\u001b[34mSM_LOG_LEVEL=20\u001b[0m\n",
      "\u001b[34mSM_FRAMEWORK_MODULE=sagemaker_tensorflow_container.training:main\u001b[0m\n",
      "\u001b[34mSM_INPUT_DIR=/opt/ml/input\u001b[0m\n",
      "\u001b[34mSM_INPUT_CONFIG_DIR=/opt/ml/input/config\u001b[0m\n",
      "\u001b[34mSM_OUTPUT_DIR=/opt/ml/output\u001b[0m\n",
      "\u001b[34mSM_NUM_CPUS=4\u001b[0m\n",
      "\u001b[34mSM_NUM_GPUS=1\u001b[0m\n",
      "\u001b[34mSM_MODEL_DIR=/opt/ml/model\u001b[0m\n",
      "\u001b[34mSM_MODULE_DIR=s3://edumunozsala-ml-sagemaker/transformer-nmt/tf-transformer-single-gpu-2020-11-12-18-36-15/source/sourcedir.tar.gz\u001b[0m\n",
      "\u001b[34mSM_TRAINING_ENV={\"additional_framework_parameters\":{},\"channel_input_dirs\":{\"training\":\"/opt/ml/input/data/training\"},\"current_host\":\"algo-1\",\"framework_module\":\"sagemaker_tensorflow_container.training:main\",\"hosts\":[\"algo-1\"],\"hyperparameters\":{\"epochs\":5,\"model_dir\":\"s3://edumunozsala-ml-sagemaker/transformer-nmt/tf-transformer-single-gpu-2020-11-12-18-36-15/model\",\"non_breaking_in\":\"nonbreaking_prefix.en\",\"non_breaking_out\":\"nonbreaking_prefix.es\",\"nsamples\":60000,\"resume\":true,\"train_file\":\"spa.txt\"},\"input_config_dir\":\"/opt/ml/input/config\",\"input_data_config\":{\"training\":{\"RecordWrapperType\":\"None\",\"S3DistributionType\":\"FullyReplicated\",\"TrainingInputMode\":\"File\"}},\"input_dir\":\"/opt/ml/input\",\"is_master\":true,\"job_name\":\"tf-transformer-single-gpu-2020-11-12-18-36-15\",\"log_level\":20,\"master_hostname\":\"algo-1\",\"model_dir\":\"/opt/ml/model\",\"module_dir\":\"s3://edumunozsala-ml-sagemaker/transformer-nmt/tf-transformer-single-gpu-2020-11-12-18-36-15/source/sourcedir.tar.gz\",\"module_name\":\"train\",\"network_interface_name\":\"eth0\",\"num_cpus\":4,\"num_gpus\":1,\"output_data_dir\":\"/opt/ml/output/data\",\"output_dir\":\"/opt/ml/output\",\"output_intermediate_dir\":\"/opt/ml/output/intermediate\",\"resource_config\":{\"current_host\":\"algo-1\",\"hosts\":[\"algo-1\"],\"network_interface_name\":\"eth0\"},\"user_entry_point\":\"train.py\"}\u001b[0m\n",
      "\u001b[34mSM_USER_ARGS=[\"--epochs\",\"5\",\"--model_dir\",\"s3://edumunozsala-ml-sagemaker/transformer-nmt/tf-transformer-single-gpu-2020-11-12-18-36-15/model\",\"--non_breaking_in\",\"nonbreaking_prefix.en\",\"--non_breaking_out\",\"nonbreaking_prefix.es\",\"--nsamples\",\"60000\",\"--resume\",\"True\",\"--train_file\",\"spa.txt\"]\u001b[0m\n",
      "\u001b[34mSM_OUTPUT_INTERMEDIATE_DIR=/opt/ml/output/intermediate\u001b[0m\n",
      "\u001b[34mSM_CHANNEL_TRAINING=/opt/ml/input/data/training\u001b[0m\n",
      "\u001b[34mSM_HP_RESUME=true\u001b[0m\n",
      "\u001b[34mSM_HP_NON_BREAKING_OUT=nonbreaking_prefix.es\u001b[0m\n",
      "\u001b[34mSM_HP_NSAMPLES=60000\u001b[0m\n",
      "\u001b[34mSM_HP_TRAIN_FILE=spa.txt\u001b[0m\n",
      "\u001b[34mSM_HP_MODEL_DIR=s3://edumunozsala-ml-sagemaker/transformer-nmt/tf-transformer-single-gpu-2020-11-12-18-36-15/model\u001b[0m\n",
      "\u001b[34mSM_HP_NON_BREAKING_IN=nonbreaking_prefix.en\u001b[0m\n",
      "\u001b[34mSM_HP_EPOCHS=5\u001b[0m\n",
      "\u001b[34mPYTHONPATH=/opt/ml/code:/usr/local/bin:/usr/lib/python36.zip:/usr/lib/python3.6:/usr/lib/python3.6/lib-dynload:/usr/local/lib/python3.6/dist-packages:/usr/lib/python3/dist-packages\n",
      "\u001b[0m\n",
      "\u001b[34mInvoking script with the following command:\n",
      "\u001b[0m\n",
      "\u001b[34m/usr/bin/python3 train.py --epochs 5 --model_dir s3://edumunozsala-ml-sagemaker/transformer-nmt/tf-transformer-single-gpu-2020-11-12-18-36-15/model --non_breaking_in nonbreaking_prefix.en --non_breaking_out nonbreaking_prefix.es --nsamples 60000 --resume True --train_file spa.txt\n",
      "\n",
      "\u001b[0m\n",
      "\u001b[34mCollecting tensorflow_datasets\n",
      "  Downloading tensorflow_datasets-4.1.0-py3-none-any.whl (3.6 MB)\u001b[0m\n",
      "\u001b[34mRequirement already satisfied: termcolor in /usr/local/lib/python3.6/dist-packages (from tensorflow_datasets) (1.1.0)\u001b[0m\n",
      "\u001b[34mCollecting future\n",
      "  Downloading future-0.18.2.tar.gz (829 kB)\u001b[0m\n",
      "\u001b[34mCollecting dill\n",
      "  Downloading dill-0.3.3-py2.py3-none-any.whl (81 kB)\u001b[0m\n",
      "\u001b[34mRequirement already satisfied: numpy in /usr/local/lib/python3.6/dist-packages (from tensorflow_datasets) (1.18.1)\u001b[0m\n",
      "\u001b[34mRequirement already satisfied: requests>=2.19.0 in /usr/local/lib/python3.6/dist-packages (from tensorflow_datasets) (2.22.0)\u001b[0m\n",
      "\u001b[34mCollecting tensorflow-metadata\n",
      "  Downloading tensorflow_metadata-0.25.0-py3-none-any.whl (44 kB)\u001b[0m\n",
      "\u001b[34mRequirement already satisfied: six in /usr/local/lib/python3.6/dist-packages (from tensorflow_datasets) (1.14.0)\u001b[0m\n",
      "\u001b[34mRequirement already satisfied: protobuf>=3.6.1 in /usr/local/lib/python3.6/dist-packages (from tensorflow_datasets) (3.11.3)\u001b[0m\n",
      "\u001b[34mCollecting attrs>=18.1.0\n",
      "  Downloading attrs-20.3.0-py2.py3-none-any.whl (49 kB)\u001b[0m\n",
      "\u001b[34mCollecting tqdm\n",
      "  Downloading tqdm-4.51.0-py2.py3-none-any.whl (70 kB)\u001b[0m\n",
      "\u001b[34mCollecting importlib-resources; python_version < \"3.9\"\n",
      "  Downloading importlib_resources-3.3.0-py2.py3-none-any.whl (26 kB)\u001b[0m\n",
      "\u001b[34mCollecting typing-extensions; python_version < \"3.8\"\n",
      "  Downloading typing_extensions-3.7.4.3-py3-none-any.whl (22 kB)\u001b[0m\n",
      "\u001b[34mCollecting promise\n",
      "  Downloading promise-2.3.tar.gz (19 kB)\u001b[0m\n",
      "\u001b[34mCollecting dataclasses; python_version < \"3.7\"\n",
      "  Downloading dataclasses-0.7-py3-none-any.whl (18 kB)\u001b[0m\n",
      "\u001b[34mRequirement already satisfied: absl-py in /usr/local/lib/python3.6/dist-packages (from tensorflow_datasets) (0.9.0)\u001b[0m\n",
      "\u001b[34mRequirement already satisfied: certifi>=2017.4.17 in /usr/local/lib/python3.6/dist-packages (from requests>=2.19.0->tensorflow_datasets) (2020.4.5.1)\u001b[0m\n",
      "\u001b[34mRequirement already satisfied: urllib3!=1.25.0,!=1.25.1,<1.26,>=1.21.1 in /usr/local/lib/python3.6/dist-packages (from requests>=2.19.0->tensorflow_datasets) (1.25.9)\u001b[0m\n",
      "\u001b[34mRequirement already satisfied: chardet<3.1.0,>=3.0.2 in /usr/local/lib/python3.6/dist-packages (from requests>=2.19.0->tensorflow_datasets) (3.0.4)\u001b[0m\n",
      "\u001b[34mRequirement already satisfied: idna<2.9,>=2.5 in /usr/local/lib/python3.6/dist-packages (from requests>=2.19.0->tensorflow_datasets) (2.8)\u001b[0m\n",
      "\u001b[34mCollecting googleapis-common-protos<2,>=1.52.0\n",
      "  Downloading googleapis_common_protos-1.52.0-py2.py3-none-any.whl (100 kB)\u001b[0m\n",
      "\u001b[34mRequirement already satisfied: setuptools in /usr/local/lib/python3.6/dist-packages (from protobuf>=3.6.1->tensorflow_datasets) (46.1.3)\u001b[0m\n",
      "\u001b[34mRequirement already satisfied: zipp>=0.4; python_version < \"3.8\" in /usr/local/lib/python3.6/dist-packages (from importlib-resources; python_version < \"3.9\"->tensorflow_datasets) (3.1.0)\u001b[0m\n",
      "\u001b[34mBuilding wheels for collected packages: future, promise\n",
      "  Building wheel for future (setup.py): started\u001b[0m\n",
      "\u001b[34m  Building wheel for future (setup.py): finished with status 'done'\n",
      "  Created wheel for future: filename=future-0.18.2-py3-none-any.whl size=491058 sha256=8ee2ee7f64812eaeae88dab477913a1a102478229062751714d6baea811887ea\n",
      "  Stored in directory: /root/.cache/pip/wheels/6e/9c/ed/4499c9865ac1002697793e0ae05ba6be33553d098f3347fb94\n",
      "  Building wheel for promise (setup.py): started\u001b[0m\n",
      "\u001b[34m  Building wheel for promise (setup.py): finished with status 'done'\n",
      "  Created wheel for promise: filename=promise-2.3-py3-none-any.whl size=21495 sha256=6a50141ea6170764a8fea8f42c9875da12c21f0528a4b72678a6a683e10860ce\n",
      "  Stored in directory: /root/.cache/pip/wheels/59/9a/1d/3f1afbbb5122d0410547bf9eb50955f4a7a98e53a6d8b99bd1\u001b[0m\n",
      "\u001b[34mSuccessfully built future promise\u001b[0m\n",
      "\u001b[34mInstalling collected packages: future, dill, googleapis-common-protos, tensorflow-metadata, attrs, tqdm, importlib-resources, typing-extensions, promise, dataclasses, tensorflow-datasets\u001b[0m\n"
     ]
    },
    {
     "name": "stdout",
     "output_type": "stream",
     "text": [
      "\u001b[34mSuccessfully installed attrs-20.3.0 dataclasses-0.7 dill-0.3.3 future-0.18.2 googleapis-common-protos-1.52.0 importlib-resources-3.3.0 promise-2.3 tensorflow-datasets-4.1.0 tensorflow-metadata-0.25.0 tqdm-4.51.0 typing-extensions-3.7.4.3\u001b[0m\n",
      "\u001b[34mWARNING: You are using pip version 20.0.2; however, version 20.2.4 is available.\u001b[0m\n",
      "\u001b[34mYou should consider upgrading via the '/usr/bin/python3 -m pip install --upgrade pip' command.\u001b[0m\n",
      "\u001b[34m/opt/ml/model s3://edumunozsala-ml-sagemaker/transformer-nmt/tf-transformer-single-gpu-2020-11-12-18-36-15/model\u001b[0m\n",
      "\u001b[34mGet the train data\u001b[0m\n",
      "\u001b[34mTokenize the input and output data and create the vocabularies\u001b[0m\n",
      "\u001b[34mInput vocab:  11460\u001b[0m\n",
      "\u001b[34mOutput vocab:  9383\u001b[0m\n",
      "\u001b[34mCreating the checkpoint ...\u001b[0m\n",
      "\u001b[34mLast checkpoint restored.\u001b[0m\n",
      "\u001b[34mTraining the model ....\u001b[0m\n",
      "\u001b[34mStarting epoch 1\u001b[0m\n",
      "\u001b[34mEpoch 1 Batch 0 Loss 0.7465 Accuracy 0.3560\u001b[0m\n",
      "\u001b[34mEpoch 1 Batch 100 Loss 0.7395 Accuracy 0.3574\u001b[0m\n",
      "\u001b[34mEpoch 1 Batch 200 Loss 0.7495 Accuracy 0.3559\u001b[0m\n",
      "\u001b[34mEpoch 1 Batch 300 Loss 0.7552 Accuracy 0.3551\u001b[0m\n",
      "\u001b[34mEpoch 1 Batch 400 Loss 0.7641 Accuracy 0.3543\u001b[0m\n",
      "\u001b[34mEpoch 1 Batch 500 Loss 0.7689 Accuracy 0.3541\u001b[0m\n",
      "\u001b[34mEpoch 1 Batch 600 Loss 0.7754 Accuracy 0.3538\u001b[0m\n",
      "\u001b[34mEpoch 1 Batch 700 Loss 0.7815 Accuracy 0.3535\u001b[0m\n",
      "\u001b[34mEpoch 1 Batch 800 Loss 0.7849 Accuracy 0.3531\u001b[0m\n",
      "\u001b[34mEpoch 1 Batch 900 Loss 0.7891 Accuracy 0.3530\u001b[0m\n",
      "\u001b[34mSaving checkpoint for epoch 1 in /opt/ml/checkpoints/ckpt-9\u001b[0m\n",
      "\u001b[34mStarting epoch 2\u001b[0m\n",
      "\u001b[34mEpoch 2 Batch 0 Loss 0.7752 Accuracy 0.3616\u001b[0m\n",
      "\u001b[34mEpoch 2 Batch 100 Loss 0.6931 Accuracy 0.3643\u001b[0m\n",
      "\u001b[34mEpoch 2 Batch 200 Loss 0.7000 Accuracy 0.3629\u001b[0m\n",
      "\u001b[34mEpoch 2 Batch 300 Loss 0.7107 Accuracy 0.3621\u001b[0m\n",
      "\u001b[34mEpoch 2 Batch 400 Loss 0.7174 Accuracy 0.3610\u001b[0m\n",
      "\u001b[34mEpoch 2 Batch 500 Loss 0.7233 Accuracy 0.3607\u001b[0m\n",
      "\u001b[34mEpoch 2 Batch 600 Loss 0.7292 Accuracy 0.3600\u001b[0m\n",
      "\u001b[34mEpoch 2 Batch 700 Loss 0.7342 Accuracy 0.3596\u001b[0m\n",
      "\u001b[34mEpoch 2 Batch 800 Loss 0.7372 Accuracy 0.3593\u001b[0m\n",
      "\u001b[34mEpoch 2 Batch 900 Loss 0.7408 Accuracy 0.3589\u001b[0m\n",
      "\u001b[34mSaving checkpoint for epoch 2 in /opt/ml/checkpoints/ckpt-10\u001b[0m\n",
      "\u001b[34mStarting epoch 3\u001b[0m\n",
      "\u001b[34mEpoch 3 Batch 0 Loss 0.6146 Accuracy 0.3627\u001b[0m\n",
      "\u001b[34mEpoch 3 Batch 100 Loss 0.6685 Accuracy 0.3686\u001b[0m\n",
      "\u001b[34mEpoch 3 Batch 200 Loss 0.6670 Accuracy 0.3673\u001b[0m\n",
      "\u001b[34mEpoch 3 Batch 300 Loss 0.6770 Accuracy 0.3664\u001b[0m\n",
      "\u001b[34mEpoch 3 Batch 400 Loss 0.6802 Accuracy 0.3660\u001b[0m\n",
      "\u001b[34mEpoch 3 Batch 500 Loss 0.6862 Accuracy 0.3653\u001b[0m\n",
      "\u001b[34mEpoch 3 Batch 600 Loss 0.6914 Accuracy 0.3650\u001b[0m\n",
      "\u001b[34mEpoch 3 Batch 700 Loss 0.6965 Accuracy 0.3646\u001b[0m\n",
      "\u001b[34mEpoch 3 Batch 800 Loss 0.7007 Accuracy 0.3640\u001b[0m\n",
      "\u001b[34mEpoch 3 Batch 900 Loss 0.7036 Accuracy 0.3641\u001b[0m\n",
      "\u001b[34mSaving checkpoint for epoch 3 in /opt/ml/checkpoints/ckpt-11\u001b[0m\n",
      "\u001b[34mStarting epoch 4\u001b[0m\n",
      "\u001b[34mEpoch 4 Batch 0 Loss 0.6168 Accuracy 0.3884\u001b[0m\n",
      "\u001b[34mEpoch 4 Batch 100 Loss 0.6127 Accuracy 0.3745\u001b[0m\n",
      "\u001b[34mEpoch 4 Batch 200 Loss 0.6317 Accuracy 0.3719\u001b[0m\n",
      "\u001b[34mEpoch 4 Batch 300 Loss 0.6400 Accuracy 0.3723\u001b[0m\n",
      "\u001b[34mEpoch 4 Batch 400 Loss 0.6493 Accuracy 0.3705\u001b[0m\n",
      "\u001b[34mEpoch 4 Batch 500 Loss 0.6558 Accuracy 0.3700\u001b[0m\n",
      "\u001b[34mEpoch 4 Batch 600 Loss 0.6614 Accuracy 0.3694\u001b[0m\n",
      "\u001b[34mEpoch 4 Batch 700 Loss 0.6638 Accuracy 0.3692\u001b[0m\n",
      "\u001b[34mEpoch 4 Batch 800 Loss 0.6702 Accuracy 0.3686\u001b[0m\n",
      "\u001b[34mEpoch 4 Batch 900 Loss 0.6730 Accuracy 0.3683\u001b[0m\n",
      "\u001b[34mSaving checkpoint for epoch 4 in /opt/ml/checkpoints/ckpt-12\u001b[0m\n",
      "\u001b[34mStarting epoch 5\u001b[0m\n",
      "\u001b[34mEpoch 5 Batch 0 Loss 0.6213 Accuracy 0.3940\u001b[0m\n",
      "\u001b[34mEpoch 5 Batch 100 Loss 0.5858 Accuracy 0.3795\u001b[0m\n",
      "\u001b[34mEpoch 5 Batch 200 Loss 0.6030 Accuracy 0.3767\u001b[0m\n",
      "\u001b[34mEpoch 5 Batch 300 Loss 0.6117 Accuracy 0.3760\u001b[0m\n",
      "\u001b[34mEpoch 5 Batch 400 Loss 0.6194 Accuracy 0.3754\u001b[0m\n",
      "\u001b[34mEpoch 5 Batch 500 Loss 0.6277 Accuracy 0.3743\u001b[0m\n",
      "\u001b[34mEpoch 5 Batch 600 Loss 0.6322 Accuracy 0.3742\u001b[0m\n",
      "\u001b[34mEpoch 5 Batch 700 Loss 0.6369 Accuracy 0.3733\u001b[0m\n",
      "\u001b[34mEpoch 5 Batch 800 Loss 0.6421 Accuracy 0.3726\u001b[0m\n",
      "\u001b[34mEpoch 5 Batch 900 Loss 0.6467 Accuracy 0.3722\u001b[0m\n",
      "\n",
      "2020-11-12 19:13:13 Uploading - Uploading generated training model\n",
      "2020-11-12 19:13:13 Completed - Training job completed\n",
      "\u001b[34mSaving checkpoint for epoch 5 in /opt/ml/checkpoints/ckpt-13\u001b[0m\n",
      "\u001b[34mSaving the model ....\u001b[0m\n",
      "\u001b[34mSaving the model parameters\u001b[0m\n",
      "\u001b[34mSaving the dictionaries ....\u001b[0m\n",
      "\u001b[34m2020-11-12 19:13:02,312 sagemaker_tensorflow_container.training WARNING  Your model will NOT be servable with SageMaker TensorFlow Serving container. The model artifact was not saved in the TensorFlow SavedModel directory structure:\u001b[0m\n",
      "\u001b[34mhttps://www.tensorflow.org/guide/saved_model#structure_of_a_savedmodel_directory\u001b[0m\n",
      "\u001b[34m2020-11-12 19:13:02,312 sagemaker-containers INFO     Reporting training SUCCESS\u001b[0m\n",
      "Training seconds: 2040\n",
      "Billable seconds: 2040\n"
     ]
    }
   ],
   "source": [
    "# Fit or train the model from the latest checkpoint\n",
    "estimator.fit({'training':training_data_uri}, job_name = job_name, \n",
    "              experiment_config = experiment_config)"
   ]
  },
  {
   "cell_type": "markdown",
   "metadata": {},
   "source": [
    "And this training job will return a new trained model, you can download to make prediction as we describe in a former section."
   ]
  },
  {
   "cell_type": "markdown",
   "metadata": {},
   "source": [
    "## Delete the experiment"
   ]
  },
  {
   "cell_type": "code",
   "execution_count": 31,
   "metadata": {},
   "outputs": [],
   "source": [
    "training_experiment.delete_all(action=\"--force\")"
   ]
  },
  {
   "cell_type": "markdown",
   "metadata": {},
   "source": [
    "# References\n",
    "\n",
    "- Referencias for experiment and trial\n",
    "https://github.com/shashankprasanna/sagemaker-training-tutorial/blob/master/sagemaker-training-tutorial.ipynb\n"
   ]
  },
  {
   "cell_type": "code",
   "execution_count": null,
   "metadata": {},
   "outputs": [],
   "source": []
  }
 ],
 "metadata": {
  "kernelspec": {
   "display_name": "conda_tensorflow2_p36",
   "language": "python",
   "name": "conda_tensorflow2_p36"
  },
  "language_info": {
   "codemirror_mode": {
    "name": "ipython",
    "version": 3
   },
   "file_extension": ".py",
   "mimetype": "text/x-python",
   "name": "python",
   "nbconvert_exporter": "python",
   "pygments_lexer": "ipython3",
   "version": "3.6.10"
  },
  "notice": "Copyright 2017 Amazon.com, Inc. or its affiliates. All Rights Reserved.  Licensed under the Apache License, Version 2.0 (the \"License\"). You may not use this file except in compliance with the License. A copy of the License is located at http://aws.amazon.com/apache2.0/ or in the \"license\" file accompanying this file. This file is distributed on an \"AS IS\" BASIS, WITHOUT WARRANTIES OR CONDITIONS OF ANY KIND, either express or implied. See the License for the specific language governing permissions and limitations under the License."
 },
 "nbformat": 4,
 "nbformat_minor": 2
}
